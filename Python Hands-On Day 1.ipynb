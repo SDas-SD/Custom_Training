{
 "cells": [
  {
   "cell_type": "code",
   "execution_count": 1,
   "id": "96b9a1c2",
   "metadata": {},
   "outputs": [
    {
     "name": "stdout",
     "output_type": "stream",
     "text": [
      "9\n"
     ]
    }
   ],
   "source": [
    "a = 9\n",
    "print(a)"
   ]
  },
  {
   "cell_type": "code",
   "execution_count": 2,
   "id": "cf0b1abe",
   "metadata": {},
   "outputs": [
    {
     "name": "stdout",
     "output_type": "stream",
     "text": [
      "Hello World\n"
     ]
    }
   ],
   "source": [
    "b = \"Hello World\"\n",
    "print(b)"
   ]
  },
  {
   "cell_type": "code",
   "execution_count": 3,
   "id": "c6e0d05e",
   "metadata": {},
   "outputs": [
    {
     "name": "stdout",
     "output_type": "stream",
     "text": [
      "True\n"
     ]
    }
   ],
   "source": [
    "c = True\n",
    "print(c)"
   ]
  },
  {
   "cell_type": "code",
   "execution_count": 4,
   "id": "9f8d8d1f",
   "metadata": {},
   "outputs": [
    {
     "name": "stdout",
     "output_type": "stream",
     "text": [
      "[1, 2, 3, 4, 5]\n"
     ]
    }
   ],
   "source": [
    "numbers = [1,2,3,4,5]\n",
    "print(numbers)"
   ]
  },
  {
   "cell_type": "code",
   "execution_count": 5,
   "id": "b839b14f",
   "metadata": {},
   "outputs": [
    {
     "name": "stdout",
     "output_type": "stream",
     "text": [
      "99.9\n"
     ]
    }
   ],
   "source": [
    "price = 99.9\n",
    "print(price)"
   ]
  },
  {
   "cell_type": "code",
   "execution_count": 7,
   "id": "d3bb77de",
   "metadata": {},
   "outputs": [
    {
     "name": "stdout",
     "output_type": "stream",
     "text": [
      "(2, 9)\n"
     ]
    }
   ],
   "source": [
    "coordinates = (2,9)\n",
    "print(coordinates)"
   ]
  },
  {
   "cell_type": "code",
   "execution_count": 8,
   "id": "ae704033",
   "metadata": {},
   "outputs": [
    {
     "name": "stdout",
     "output_type": "stream",
     "text": [
      "{'name': 'Alice', 'age': 30, 'city': 'New York'}\n"
     ]
    }
   ],
   "source": [
    "person = {\"name\": \"Alice\", \"age\": 30, \"city\": \"New York\"}\n",
    "print(person)"
   ]
  },
  {
   "cell_type": "code",
   "execution_count": 9,
   "id": "1f32db4e",
   "metadata": {},
   "outputs": [
    {
     "name": "stdout",
     "output_type": "stream",
     "text": [
      "{'apple', 'banana', 'cherry'}\n"
     ]
    }
   ],
   "source": [
    "fruits = {\"apple\", \"banana\", \"cherry\"}\n",
    "print(fruits)"
   ]
  },
  {
   "cell_type": "code",
   "execution_count": 2,
   "id": "3857466c",
   "metadata": {},
   "outputs": [
    {
     "name": "stdout",
     "output_type": "stream",
     "text": [
      "15\n",
      "5\n",
      "50\n",
      "2.0\n",
      "0\n",
      "100000\n"
     ]
    }
   ],
   "source": [
    "#Arithmetic Operator\n",
    "a = 10\n",
    "b = 5\n",
    "\n",
    "# Addition\n",
    "addition = a + b  # Result: 15\n",
    "\n",
    "# Subtraction\n",
    "subtraction = a - b  # Result: 5\n",
    "\n",
    "# Multiplication\n",
    "multiplication = a * b  # Result: 50\n",
    "\n",
    "# Division\n",
    "division = a / b  # Result: 2.0 (Python 3 always returns a float in division)\n",
    "\n",
    "# Modulus (remainder)\n",
    "modulus = a % b  # Result: 0\n",
    "\n",
    "# Exponentiation\n",
    "exponentiation = a ** b  # Result: 100000\n",
    "\n",
    "\n",
    "print(addition)\n",
    "print(subtraction)\n",
    "print(multiplication)\n",
    "print(division)\n",
    "print(modulus)\n",
    "print(exponentiation)\n"
   ]
  },
  {
   "cell_type": "code",
   "execution_count": 5,
   "id": "49495233",
   "metadata": {},
   "outputs": [
    {
     "name": "stdout",
     "output_type": "stream",
     "text": [
      "[{'region': 'North', 'shops': ['A', 'B', 'C', 'D', 'E'], 'profit': True, 'Low_Fuel_Price': True, 'User_Satisfaction': True}, {'region': 'South', 'shops': ['A', 'B', 'C', 'D', 'E'], 'profit': True, 'Low_Fuel_Price': False, 'User_Satisfaction': True}, {'region': 'East', 'shops': ['A', 'B', 'C', 'D'], 'profit': False, 'Low_Fuel_Price': True, 'User_Satisfaction': False}, {'region': 'West', 'shops': ['A', 'B', 'C', 'D'], 'profit': False, 'Low_Fuel_Price': True, 'User_Satisfaction': True}]\n"
     ]
    }
   ],
   "source": [
    "ls_shops = [\n",
    "    {\"region\":\"North\",\n",
    "     \"shops\":[\"A\",\"B\",\"C\",\"D\"],\n",
    "     \"profit\": True,\n",
    "     \"Low_Fuel_Price\": True,\n",
    "     \"User_Satisfaction\": True\n",
    "    },\n",
    "    {\"region\":\"South\",\n",
    "     \"shops\":[\"A\",\"B\",\"C\",\"D\"],\n",
    "     \"profit\": True,\n",
    "     \"Low_Fuel_Price\": False,\n",
    "     \"User_Satisfaction\": True   \n",
    "    },\n",
    "    {\"region\":\"East\",\n",
    "     \"shops\":[\"A\",\"B\",\"C\",\"D\"],\n",
    "     \"profit\": False,\n",
    "     \"Low_Fuel_Price\": True,\n",
    "     \"User_Satisfaction\": False\n",
    "    },\n",
    "    {\"region\":\"West\",\n",
    "     \"shops\":[\"A\",\"B\",\"C\",\"D\"],\n",
    "     \"profit\": False,\n",
    "     \"Low_Fuel_Price\": True,\n",
    "     \"User_Satisfaction\": True\n",
    "    }\n",
    "]\n",
    "\n",
    "for i in ls_shops:\n",
    "    expansion = i[\"profit\"] and (i[\"Low_Fuel_Price\"] or i[\"User_Satisfaction\"])\n",
    "    if expansion:\n",
    "        i[\"shops\"].append(\"E\")\n",
    "        \n",
    "print (ls_shops)"
   ]
  },
  {
   "cell_type": "code",
   "execution_count": 6,
   "id": "2f46fa96",
   "metadata": {},
   "outputs": [
    {
     "name": "stdout",
     "output_type": "stream",
     "text": [
      "<zip object at 0x7f33a397b340>\n",
      "(1, 'a')\n",
      "(2, 'b')\n",
      "(3, 'c')\n"
     ]
    }
   ],
   "source": [
    "list1 = [1,2,3]\n",
    "list2 = ['a','b','c','d']\n",
    "zipped = zip(list1, list2)\n",
    "print(zipped)\n",
    "for item in zipped:\n",
    "    print(item)\n",
    "    "
   ]
  },
  {
   "cell_type": "code",
   "execution_count": 12,
   "id": "bfc934b2",
   "metadata": {},
   "outputs": [
    {
     "name": "stdout",
     "output_type": "stream",
     "text": [
      "<zip object at 0x7f33a396d8c0>\n",
      "(1, 'a')\n",
      "(2, 'b')\n",
      "(3, 'c')\n"
     ]
    }
   ],
   "source": [
    "list1 = [1,2,3]\n",
    "list2 = ['a','b','c','d']\n",
    "\n",
    "def zip_function(a, b):\n",
    "    \n",
    "    zipped = zip(list1, list2)\n",
    "    print(zipped)\n",
    "    for item in zipped:S\n",
    "        print(item)\n",
    "        \n",
    "zip_function(list1, list2)"
   ]
  },
  {
   "cell_type": "code",
   "execution_count": null,
   "id": "3922decf",
   "metadata": {},
   "outputs": [],
   "source": []
  }
 ],
 "metadata": {
  "kernelspec": {
   "display_name": "Python 3 (ipykernel)",
   "language": "python",
   "name": "python3"
  },
  "language_info": {
   "codemirror_mode": {
    "name": "ipython",
    "version": 3
   },
   "file_extension": ".py",
   "mimetype": "text/x-python",
   "name": "python",
   "nbconvert_exporter": "python",
   "pygments_lexer": "ipython3",
   "version": "3.11.4"
  }
 },
 "nbformat": 4,
 "nbformat_minor": 5
}
