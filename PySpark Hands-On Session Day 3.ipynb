{
 "cells": [
  {
   "cell_type": "code",
   "execution_count": 1,
   "id": "5d5363cb",
   "metadata": {},
   "outputs": [],
   "source": [
    "import findspark\n",
    "findspark.init()"
   ]
  },
  {
   "cell_type": "code",
   "execution_count": 2,
   "id": "6646ca1f",
   "metadata": {},
   "outputs": [
    {
     "name": "stderr",
     "output_type": "stream",
     "text": [
      "Setting default log level to \"WARN\".\n",
      "To adjust logging level use sc.setLogLevel(newLevel). For SparkR, use setLogLevel(newLevel).\n",
      "23/09/25 03:52:03 WARN NativeCodeLoader: Unable to load native-hadoop library for your platform... using builtin-java classes where applicable\n"
     ]
    }
   ],
   "source": [
    "from pyspark.sql import SparkSession\n",
    "\n",
    "#Initialize SparkSession\n",
    "spark = SparkSession.builder.appName(\"WordCount\").getOrCreate()"
   ]
  },
  {
   "cell_type": "code",
   "execution_count": 3,
   "id": "87af0712",
   "metadata": {},
   "outputs": [],
   "source": [
    "sc = spark.sparkContext"
   ]
  },
  {
   "cell_type": "code",
   "execution_count": 4,
   "id": "dfddf071",
   "metadata": {},
   "outputs": [],
   "source": [
    "test_df = [(\"James\",\"Sales\",\"NY\",90000,34,10000),\n",
    "    (\"Michael\",\"Sales\",\"NY\",86000,56,20000),\n",
    "    (\"Robert\",\"Sales\",\"CA\",81000,30,23000),\n",
    "    (\"Maria\",\"Finance\",\"CA\",90000,24,23000),\n",
    "    (\"Raman\",\"Finance\",\"CA\",99000,40,24000),\n",
    "    (\"Scott\",\"Finance\",\"NY\",83000,36,19000),\n",
    "    (\"Jen\",\"Finance\",\"NY\",79000,53,15000),\n",
    "    (\"Jeff\",\"Marketing\",\"CA\",80000,25,18000),\n",
    "    (\"Kumar\",\"Marketing\",\"NY\",91000,50,21000)\n",
    "  ]\n"
   ]
  },
  {
   "cell_type": "code",
   "execution_count": 5,
   "id": "93259168",
   "metadata": {},
   "outputs": [],
   "source": [
    "ud_scehma = [\"employee_name\",\"department\",\"state\",\"salary\",\"age\",\"bonus\"]"
   ]
  },
  {
   "cell_type": "code",
   "execution_count": 6,
   "id": "1b1a433b",
   "metadata": {},
   "outputs": [],
   "source": [
    "df = spark.createDataFrame(data=test_df,schema = ud_scehma)"
   ]
  },
  {
   "cell_type": "code",
   "execution_count": 7,
   "id": "1431a2cf",
   "metadata": {},
   "outputs": [
    {
     "name": "stderr",
     "output_type": "stream",
     "text": [
      "                                                                                \r"
     ]
    },
    {
     "name": "stdout",
     "output_type": "stream",
     "text": [
      "+-------------+----------+-----+------+---+-----+\n",
      "|employee_name|department|state|salary|age|bonus|\n",
      "+-------------+----------+-----+------+---+-----+\n",
      "|        James|     Sales|   NY| 90000| 34|10000|\n",
      "|      Michael|     Sales|   NY| 86000| 56|20000|\n",
      "|       Robert|     Sales|   CA| 81000| 30|23000|\n",
      "|        Maria|   Finance|   CA| 90000| 24|23000|\n",
      "|        Raman|   Finance|   CA| 99000| 40|24000|\n",
      "|        Scott|   Finance|   NY| 83000| 36|19000|\n",
      "|          Jen|   Finance|   NY| 79000| 53|15000|\n",
      "|         Jeff| Marketing|   CA| 80000| 25|18000|\n",
      "|        Kumar| Marketing|   NY| 91000| 50|21000|\n",
      "+-------------+----------+-----+------+---+-----+\n",
      "\n"
     ]
    }
   ],
   "source": [
    "df.show()"
   ]
  },
  {
   "cell_type": "code",
   "execution_count": 16,
   "id": "cec435f7",
   "metadata": {},
   "outputs": [
    {
     "name": "stderr",
     "output_type": "stream",
     "text": [
      "23/09/25 04:38:16 WARN CacheManager: Asked to cache already cached data.\n",
      "                                                                                \r"
     ]
    },
    {
     "data": {
      "text/plain": [
       "9"
      ]
     },
     "execution_count": 16,
     "metadata": {},
     "output_type": "execute_result"
    }
   ],
   "source": [
    "from pyspark.sql.functions import *\n",
    "df.cache().count()"
   ]
  },
  {
   "cell_type": "code",
   "execution_count": 20,
   "id": "89372e64",
   "metadata": {},
   "outputs": [
    {
     "name": "stderr",
     "output_type": "stream",
     "text": [
      "23/09/25 04:42:23 WARN CacheManager: Asked to cache already cached data.\n"
     ]
    },
    {
     "data": {
      "text/plain": [
       "DataFrame[employee_name: string, department: string, state: string, salary: bigint, age: bigint, bonus: bigint]"
      ]
     },
     "execution_count": 20,
     "metadata": {},
     "output_type": "execute_result"
    }
   ],
   "source": [
    "from pyspark import StorageLevel\n",
    "test = StorageLevel(useDisk=False,useMemory=True,useOffHeap=False,deserialized=False,replication=2)\n",
    "df.persist(storageLevel=test)"
   ]
  },
  {
   "cell_type": "code",
   "execution_count": 14,
   "id": "7b3136e7",
   "metadata": {},
   "outputs": [],
   "source": [
    "import sys"
   ]
  },
  {
   "cell_type": "code",
   "execution_count": 15,
   "id": "c099ea55",
   "metadata": {},
   "outputs": [
    {
     "name": "stdout",
     "output_type": "stream",
     "text": [
      "3.11.4 (main, Jul  5 2023, 14:15:25) [GCC 11.2.0]\n"
     ]
    }
   ],
   "source": [
    "print(sys.version)"
   ]
  },
  {
   "cell_type": "code",
   "execution_count": 21,
   "id": "46fbe0d2",
   "metadata": {},
   "outputs": [
    {
     "name": "stdout",
     "output_type": "stream",
     "text": [
      "+-------------+----------+-----+------+---+-----+\n",
      "|employee_name|department|state|salary|age|bonus|\n",
      "+-------------+----------+-----+------+---+-----+\n",
      "|        James|     Sales|   NY| 90000| 34|10000|\n",
      "|      Michael|     Sales|   NY| 86000| 56|20000|\n",
      "|       Robert|     Sales|   CA| 81000| 30|23000|\n",
      "|        Maria|   Finance|   CA| 90000| 24|23000|\n",
      "|        Raman|   Finance|   CA| 99000| 40|24000|\n",
      "|        Scott|   Finance|   NY| 83000| 36|19000|\n",
      "|          Jen|   Finance|   NY| 79000| 53|15000|\n",
      "|         Jeff| Marketing|   CA| 80000| 25|18000|\n",
      "|        Kumar| Marketing|   NY| 91000| 50|21000|\n",
      "+-------------+----------+-----+------+---+-----+\n",
      "\n"
     ]
    }
   ],
   "source": [
    "df.show()"
   ]
  },
  {
   "cell_type": "code",
   "execution_count": 27,
   "id": "f55cdaae",
   "metadata": {},
   "outputs": [
    {
     "name": "stdout",
     "output_type": "stream",
     "text": [
      "+----------+-----+----------+----------+\n",
      "|department|state|sum_salary|avg_salary|\n",
      "+----------+-----+----------+----------+\n",
      "|     Sales|   CA|     81000|   81000.0|\n",
      "|   Finance|   CA|    189000|   94500.0|\n",
      "|     Sales|   NY|    176000|   88000.0|\n",
      "|   Finance|   NY|    162000|   81000.0|\n",
      "| Marketing|   NY|     91000|   91000.0|\n",
      "+----------+-----+----------+----------+\n",
      "\n"
     ]
    }
   ],
   "source": [
    "df.groupBy(\"department\",\"state\").agg(sum(\"salary\").alias(\"sum_salary\"), \\\n",
    "                             avg(\"salary\").alias(\"avg_salary\")) \\\n",
    "                            .where(col(\"avg_salary\")>80000).show()"
   ]
  },
  {
   "cell_type": "code",
   "execution_count": 26,
   "id": "136405aa",
   "metadata": {},
   "outputs": [],
   "source": [
    "df.createOrReplaceTempView(\"ida\")"
   ]
  },
  {
   "cell_type": "code",
   "execution_count": 28,
   "id": "8962b4e6",
   "metadata": {},
   "outputs": [],
   "source": [
    "test = spark.sql(\"select * from ida\")"
   ]
  },
  {
   "cell_type": "code",
   "execution_count": 29,
   "id": "80dcf3c9",
   "metadata": {},
   "outputs": [
    {
     "name": "stdout",
     "output_type": "stream",
     "text": [
      "+-------------+----------+-----+------+---+-----+\n",
      "|employee_name|department|state|salary|age|bonus|\n",
      "+-------------+----------+-----+------+---+-----+\n",
      "|        James|     Sales|   NY| 90000| 34|10000|\n",
      "|      Michael|     Sales|   NY| 86000| 56|20000|\n",
      "|       Robert|     Sales|   CA| 81000| 30|23000|\n",
      "|        Maria|   Finance|   CA| 90000| 24|23000|\n",
      "|        Raman|   Finance|   CA| 99000| 40|24000|\n",
      "|        Scott|   Finance|   NY| 83000| 36|19000|\n",
      "|          Jen|   Finance|   NY| 79000| 53|15000|\n",
      "|         Jeff| Marketing|   CA| 80000| 25|18000|\n",
      "|        Kumar| Marketing|   NY| 91000| 50|21000|\n",
      "+-------------+----------+-----+------+---+-----+\n",
      "\n"
     ]
    }
   ],
   "source": [
    "test.show()"
   ]
  },
  {
   "cell_type": "code",
   "execution_count": 33,
   "id": "8d7040ed",
   "metadata": {},
   "outputs": [],
   "source": [
    "spark.sql(\"CREATE DATABASE idashell\")\n",
    "spark.sql(\"USE idashell\")\n",
    "\n",
    "df.write.saveAsTable(\"emp_tbl\")"
   ]
  },
  {
   "cell_type": "code",
   "execution_count": 34,
   "id": "7672ee44",
   "metadata": {},
   "outputs": [
    {
     "name": "stdout",
     "output_type": "stream",
     "text": [
      "+-------------+---------+-------+\n",
      "|     col_name|data_type|comment|\n",
      "+-------------+---------+-------+\n",
      "|employee_name|   string|   null|\n",
      "|   department|   string|   null|\n",
      "|        state|   string|   null|\n",
      "|       salary|   bigint|   null|\n",
      "|          age|   bigint|   null|\n",
      "|        bonus|   bigint|   null|\n",
      "+-------------+---------+-------+\n",
      "\n"
     ]
    }
   ],
   "source": [
    "test = spark.sql(\"DESCRIBE emp_tbl\")\n",
    "test.show()"
   ]
  },
  {
   "cell_type": "code",
   "execution_count": 35,
   "id": "6d34831a",
   "metadata": {},
   "outputs": [
    {
     "name": "stdout",
     "output_type": "stream",
     "text": [
      "+--------------------+--------------------+-------+\n",
      "|            col_name|           data_type|comment|\n",
      "+--------------------+--------------------+-------+\n",
      "|       employee_name|              string|   null|\n",
      "|          department|              string|   null|\n",
      "|               state|              string|   null|\n",
      "|              salary|              bigint|   null|\n",
      "|                 age|              bigint|   null|\n",
      "|               bonus|              bigint|   null|\n",
      "|                    |                    |       |\n",
      "|# Detailed Table ...|                    |       |\n",
      "|             Catalog|       spark_catalog|       |\n",
      "|            Database|            idashell|       |\n",
      "|               Table|             emp_tbl|       |\n",
      "|        Created Time|Mon Sep 25 05:24:...|       |\n",
      "|         Last Access|             UNKNOWN|       |\n",
      "|          Created By|         Spark 3.4.1|       |\n",
      "|                Type|             MANAGED|       |\n",
      "|            Provider|             parquet|       |\n",
      "|            Location|file:/home/labuse...|       |\n",
      "+--------------------+--------------------+-------+\n",
      "\n"
     ]
    }
   ],
   "source": [
    "test01 = spark.sql(\"DESCRIBE EXTENDED emp_tbl\")\n",
    "test01.show()"
   ]
  },
  {
   "cell_type": "code",
   "execution_count": 39,
   "id": "7b25c658",
   "metadata": {},
   "outputs": [],
   "source": [
    "spark.sql(\"CREATE DATABASE idashell2\")\n",
    "spark.sql(\"USE idashell2\")\n",
    "df.write.option(\"path\",\"/home/labuser/Documents/ida_test/\").saveAsTable(\"emp01_tbl\")"
   ]
  },
  {
   "cell_type": "code",
   "execution_count": 40,
   "id": "0dcbec46",
   "metadata": {},
   "outputs": [
    {
     "data": {
      "text/plain": [
       "DataFrame[]"
      ]
     },
     "execution_count": 40,
     "metadata": {},
     "output_type": "execute_result"
    }
   ],
   "source": [
    "spark.sql(\"drop table idashell.emp_tbl\")"
   ]
  },
  {
   "cell_type": "code",
   "execution_count": 41,
   "id": "b73d9025",
   "metadata": {},
   "outputs": [
    {
     "data": {
      "text/plain": [
       "DataFrame[]"
      ]
     },
     "execution_count": 41,
     "metadata": {},
     "output_type": "execute_result"
    }
   ],
   "source": [
    "spark.sql(\"drop table idashell2.emp01_tbl\")"
   ]
  },
  {
   "cell_type": "code",
   "execution_count": 42,
   "id": "32cbe6a8",
   "metadata": {},
   "outputs": [
    {
     "name": "stderr",
     "output_type": "stream",
     "text": [
      "\r",
      "[Stage 27:>                                                         (0 + 2) / 2]\r",
      "\r",
      "                                                                                \r"
     ]
    }
   ],
   "source": [
    "df.write.partitionBy(\"state\",\"department\").csv(\"/home/labuser/Documents/test01\")"
   ]
  },
  {
   "cell_type": "code",
   "execution_count": 43,
   "id": "47d933d5",
   "metadata": {},
   "outputs": [],
   "source": [
    "def f(df):\n",
    "    print(df.state)"
   ]
  },
  {
   "cell_type": "code",
   "execution_count": 44,
   "id": "43e96e08",
   "metadata": {},
   "outputs": [
    {
     "name": "stderr",
     "output_type": "stream",
     "text": [
      "CA\n",
      "NY\n",
      "NY\n",
      "CA\n",
      "NY\n",
      "NY\n",
      "NY\n",
      "CA\n",
      "CA\n"
     ]
    }
   ],
   "source": [
    "test=df.foreach(f)"
   ]
  },
  {
   "cell_type": "code",
   "execution_count": 45,
   "id": "2b5cdc25",
   "metadata": {},
   "outputs": [
    {
     "name": "stdout",
     "output_type": "stream",
     "text": [
      "+-------+---+\n",
      "|   name|age|\n",
      "+-------+---+\n",
      "|  Alice| 25|\n",
      "|    Bob| 30|\n",
      "|Charlie| 35|\n",
      "+-------+---+\n",
      "\n"
     ]
    }
   ],
   "source": [
    "json_data = [\n",
    "    '{\"name\": \"Alice\", \"age\": 25}',\n",
    "    '{\"name\": \"Bob\", \"age\": 30}',\n",
    "    '{\"name\": \"Charlie\", \"age\": 35}'\n",
    "]\n",
    "\n",
    "from pyspark.sql.functions import *\n",
    "from pyspark.sql.types import *\n",
    "schema = StructType([\n",
    "    StructField(\"name\", StringType(), True),\n",
    "    StructField(\"age\", IntegerType(), True)\n",
    "])\n",
    "\n",
    "df = spark.read.schema(schema).json(spark.sparkContext.parallelize(json_data))\n",
    "df.show()"
   ]
  },
  {
   "cell_type": "code",
   "execution_count": 46,
   "id": "538e2fe6",
   "metadata": {},
   "outputs": [
    {
     "name": "stdout",
     "output_type": "stream",
     "text": [
      "+-------+---+-------------------+\n",
      "|   name|age|            address|\n",
      "+-------+---+-------------------+\n",
      "|  Alice| 25|     {New York, NY}|\n",
      "|    Bob| 30|{San Francisco, CA}|\n",
      "|Charlie| 35|  {Los Angeles, CA}|\n",
      "+-------+---+-------------------+\n",
      "\n"
     ]
    }
   ],
   "source": [
    "json_data = [\n",
    "    '{\"name\": \"Alice\", \"age\": 25, \"address\": {\"city\": \"New York\", \"state\": \"NY\"}}',\n",
    "    '{\"name\": \"Bob\", \"age\": 30, \"address\": {\"city\": \"San Francisco\", \"state\": \"CA\"}}',\n",
    "    '{\"name\": \"Charlie\", \"age\": 35, \"address\": {\"city\": \"Los Angeles\", \"state\": \"CA\"}}'\n",
    "]\n",
    "\n",
    "schema = StructType([\n",
    "    StructField(\"name\", StringType(), True),\n",
    "    StructField(\"age\", IntegerType(), True),\n",
    "    StructField(\"address\", StructType([\n",
    "        StructField(\"city\", StringType(), True),\n",
    "        StructField(\"state\", StringType(), True)\n",
    "    ]), True)\n",
    "])\n",
    "\n",
    "\n",
    "df = spark.read.schema(schema).json(spark.sparkContext.parallelize(json_data))\n",
    "df.show()"
   ]
  },
  {
   "cell_type": "code",
   "execution_count": null,
   "id": "e4e65c4a",
   "metadata": {},
   "outputs": [],
   "source": []
  }
 ],
 "metadata": {
  "kernelspec": {
   "display_name": "Python 3 (ipykernel)",
   "language": "python",
   "name": "python3"
  },
  "language_info": {
   "codemirror_mode": {
    "name": "ipython",
    "version": 3
   },
   "file_extension": ".py",
   "mimetype": "text/x-python",
   "name": "python",
   "nbconvert_exporter": "python",
   "pygments_lexer": "ipython3",
   "version": "3.11.4"
  }
 },
 "nbformat": 4,
 "nbformat_minor": 5
}
