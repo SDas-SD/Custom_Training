{
 "cells": [
  {
   "cell_type": "code",
   "execution_count": 1,
   "id": "64fd9dc0",
   "metadata": {},
   "outputs": [],
   "source": [
    "import findspark\n",
    "findspark.init()"
   ]
  },
  {
   "cell_type": "code",
   "execution_count": 2,
   "id": "d543b582",
   "metadata": {},
   "outputs": [
    {
     "name": "stderr",
     "output_type": "stream",
     "text": [
      "Setting default log level to \"WARN\".\n",
      "To adjust logging level use sc.setLogLevel(newLevel). For SparkR, use setLogLevel(newLevel).\n",
      "23/09/22 08:39:20 WARN NativeCodeLoader: Unable to load native-hadoop library for your platform... using builtin-java classes where applicable\n",
      "23/09/22 08:39:22 WARN Utils: Service 'SparkUI' could not bind on port 4040. Attempting port 4041.\n"
     ]
    }
   ],
   "source": [
    "from pyspark.sql import SparkSession\n",
    "\n",
    "#Initialize SparkSession\n",
    "spark = SparkSession.builder.appName(\"WordCount\").getOrCreate()"
   ]
  },
  {
   "cell_type": "code",
   "execution_count": 3,
   "id": "7e846ffd",
   "metadata": {},
   "outputs": [],
   "source": [
    "sc = spark.sparkContext"
   ]
  },
  {
   "cell_type": "code",
   "execution_count": 8,
   "id": "d4483323",
   "metadata": {},
   "outputs": [
    {
     "name": "stderr",
     "output_type": "stream",
     "text": [
      "                                                                                \r"
     ]
    }
   ],
   "source": [
    "customerdf=spark.read.option(\"inferSchema\", True).option(\"header\", True).option(\"sep\",'\\t').csv(\"/home/labuser/Downloads/Retail_Dataset/customer.csv\")\n",
    "lineitemdf=spark.read.option(\"inferSchema\", True).option(\"header\", True).option(\"sep\",'\\t').csv(\"/home/labuser/Downloads/Retail_Dataset/lineitem.csv\")\n",
    "nationdf=spark.read.option(\"inferSchema\", True).option(\"header\", True).option(\"sep\",'\\t').csv(\"/home/labuser/Downloads/Retail_Dataset/nation.csv\")\n",
    "ordersdf=spark.read.option(\"inferSchema\", True).option(\"header\", True).option(\"sep\",'\\t').csv(\"/home/labuser/Downloads/Retail_Dataset/orders.csv\")\n",
    "partdf=spark.read.option(\"inferSchema\", True).option(\"header\", True).option(\"sep\",'\\t').csv(\"/home/labuser/Downloads/Retail_Dataset/part.csv\")\n",
    "partsuppdf=spark.read.option(\"inferSchema\", True).option(\"header\", True).option(\"sep\",'\\t').csv(\"/home/labuser/Downloads/Retail_Dataset/partsupp.csv\")\n",
    "regiondf=spark.read.option(\"inferSchema\", True).option(\"header\", True).option(\"sep\",'\\t').csv(\"/home/labuser/Downloads/Retail_Dataset/region.csv\")\n",
    "supplierdf=spark.read.option(\"inferSchema\", True).option(\"header\", True).option(\"sep\",'\\t').csv(\"/home/labuser/Downloads/Retail_Dataset/supplier.csv\")"
   ]
  },
  {
   "cell_type": "code",
   "execution_count": 9,
   "id": "c06388ad",
   "metadata": {},
   "outputs": [
    {
     "name": "stdout",
     "output_type": "stream",
     "text": [
      "root\n",
      " |-- C_CUSTKEY: integer (nullable = true)\n",
      " |-- C_NAME: string (nullable = true)\n",
      " |-- C_ADDRESS: string (nullable = true)\n",
      " |-- C_NATIONKEY: integer (nullable = true)\n",
      " |-- C_PHONE: string (nullable = true)\n",
      " |-- C_ACCTBAL: double (nullable = true)\n",
      " |-- C_MKTSEGMENT: string (nullable = true)\n",
      " |-- C_COMMENT: string (nullable = true)\n",
      "\n"
     ]
    }
   ],
   "source": [
    "customerdf.printSchema()"
   ]
  },
  {
   "cell_type": "code",
   "execution_count": 10,
   "id": "83ef4893",
   "metadata": {},
   "outputs": [
    {
     "name": "stdout",
     "output_type": "stream",
     "text": [
      "root\n",
      " |-- L_ORDERKEY: integer (nullable = true)\n",
      " |-- L_PARTKEY: integer (nullable = true)\n",
      " |-- L_SUPPKEY: integer (nullable = true)\n",
      " |-- L_LINENUMBER: integer (nullable = true)\n",
      " |-- L_QUANTITY: double (nullable = true)\n",
      " |-- L_EXTENDEDPRICE: double (nullable = true)\n",
      " |-- L_DISCOUNT: double (nullable = true)\n",
      " |-- L_TAX: double (nullable = true)\n",
      " |-- L_RETURNFLAG: string (nullable = true)\n",
      " |-- L_LINESTATUS: string (nullable = true)\n",
      " |-- L_SHIPDATE: date (nullable = true)\n",
      " |-- L_COMMITDATE: date (nullable = true)\n",
      " |-- L_RECEIPTDATE: date (nullable = true)\n",
      " |-- L_SHIPINSTRUCT: string (nullable = true)\n",
      " |-- L_SHIPMODE: string (nullable = true)\n",
      " |-- L_COMMENT: string (nullable = true)\n",
      "\n"
     ]
    }
   ],
   "source": [
    "lineitemdf.printSchema()"
   ]
  },
  {
   "cell_type": "code",
   "execution_count": 11,
   "id": "05e387d6",
   "metadata": {},
   "outputs": [
    {
     "name": "stdout",
     "output_type": "stream",
     "text": [
      "root\n",
      " |-- N_NATIONKEY: integer (nullable = true)\n",
      " |-- N_NAME: string (nullable = true)\n",
      " |-- N_REGIONKEY: integer (nullable = true)\n",
      " |-- N_COMMENT: string (nullable = true)\n",
      "\n"
     ]
    }
   ],
   "source": [
    "nationdf.printSchema()"
   ]
  },
  {
   "cell_type": "code",
   "execution_count": 13,
   "id": "dae52f9a",
   "metadata": {},
   "outputs": [
    {
     "name": "stdout",
     "output_type": "stream",
     "text": [
      "root\n",
      " |-- O_ORDERKEY: integer (nullable = true)\n",
      " |-- O_CUSTKEY: integer (nullable = true)\n",
      " |-- O_ORDERSTATUS: string (nullable = true)\n",
      " |-- O_TOTALPRICE: double (nullable = true)\n",
      " |-- O_ORDERDATE: date (nullable = true)\n",
      " |-- O_ORDERPRIORITY: string (nullable = true)\n",
      " |-- O_CLERK: string (nullable = true)\n",
      " |-- O_SHIPPRIORITY: integer (nullable = true)\n",
      " |-- O_COMMENT: string (nullable = true)\n",
      "\n"
     ]
    }
   ],
   "source": [
    "ordersdf.printSchema()"
   ]
  },
  {
   "cell_type": "code",
   "execution_count": 14,
   "id": "cc4e7525",
   "metadata": {},
   "outputs": [
    {
     "name": "stdout",
     "output_type": "stream",
     "text": [
      "root\n",
      " |-- P_PARTKEY: integer (nullable = true)\n",
      " |-- P_NAME: string (nullable = true)\n",
      " |-- P_MFGR: string (nullable = true)\n",
      " |-- P_BRAND: string (nullable = true)\n",
      " |-- P_TYPE: string (nullable = true)\n",
      " |-- P_SIZE: integer (nullable = true)\n",
      " |-- P_CONTAINER: string (nullable = true)\n",
      " |-- P_RETAILPRICE: double (nullable = true)\n",
      " |-- P_COMMENT: string (nullable = true)\n",
      "\n"
     ]
    }
   ],
   "source": [
    "partdf.printSchema()"
   ]
  },
  {
   "cell_type": "code",
   "execution_count": 15,
   "id": "5910d5f1",
   "metadata": {},
   "outputs": [
    {
     "name": "stdout",
     "output_type": "stream",
     "text": [
      "root\n",
      " |-- PS_PARTKEY: integer (nullable = true)\n",
      " |-- PS_SUPPKEY: integer (nullable = true)\n",
      " |-- PS_AVAILQTY: integer (nullable = true)\n",
      " |-- PS_SUPPLYCOST: double (nullable = true)\n",
      " |-- PS_COMMENT: string (nullable = true)\n",
      "\n"
     ]
    }
   ],
   "source": [
    "partsuppdf.printSchema()"
   ]
  },
  {
   "cell_type": "code",
   "execution_count": 16,
   "id": "105b72b4",
   "metadata": {},
   "outputs": [
    {
     "name": "stdout",
     "output_type": "stream",
     "text": [
      "root\n",
      " |-- R_REGIONKEY: integer (nullable = true)\n",
      " |-- R_NAME: string (nullable = true)\n",
      " |-- R_COMMENT: string (nullable = true)\n",
      "\n"
     ]
    }
   ],
   "source": [
    "regiondf.printSchema()"
   ]
  },
  {
   "cell_type": "code",
   "execution_count": 17,
   "id": "52a11ba8",
   "metadata": {},
   "outputs": [
    {
     "name": "stdout",
     "output_type": "stream",
     "text": [
      "root\n",
      " |-- S_SUPPKEY: integer (nullable = true)\n",
      " |-- S_NAME: string (nullable = true)\n",
      " |-- S_ADDRESS: string (nullable = true)\n",
      " |-- S_NATIONKEY: integer (nullable = true)\n",
      " |-- S_PHONE: string (nullable = true)\n",
      " |-- S_ACCTBAL: double (nullable = true)\n",
      " |-- S_COMMENT: string (nullable = true)\n",
      "\n"
     ]
    }
   ],
   "source": [
    "supplierdf.printSchema()"
   ]
  },
  {
   "cell_type": "code",
   "execution_count": 31,
   "id": "efcc5fbd",
   "metadata": {},
   "outputs": [],
   "source": [
    "joindf=customerdf.join(ordersdf, customerdf.C_CUSTKEY==ordersdf.O_CUSTKEY, how=\"inner\"). \\\n",
    "join(lineitemdf, ordersdf.O_ORDERKEY==lineitemdf.L_ORDERKEY, how=\"inner\"). \\\n",
    "select(customerdf[\"*\"],ordersdf[\"O_ORDERSTATUS\"],ordersdf[\"O_TOTALPRICE\"],ordersdf[\"O_ORDERDATE\"],lineitemdf[\"L_LINENUMBER\"],lineitemdf[\"L_QUANTITY\"])"
   ]
  },
  {
   "cell_type": "code",
   "execution_count": 34,
   "id": "4b5f06e9",
   "metadata": {},
   "outputs": [
    {
     "name": "stdout",
     "output_type": "stream",
     "text": [
      "+---------+------------------+--------------------+-----------+---------------+---------+------------+--------------------+-------------+------------+-----------+------------+----------+\n",
      "|C_CUSTKEY|            C_NAME|           C_ADDRESS|C_NATIONKEY|        C_PHONE|C_ACCTBAL|C_MKTSEGMENT|           C_COMMENT|O_ORDERSTATUS|O_TOTALPRICE|O_ORDERDATE|L_LINENUMBER|L_QUANTITY|\n",
      "+---------+------------------+--------------------+-----------+---------------+---------+------------+--------------------+-------------+------------+-----------+------------+----------+\n",
      "|      370|Customer#000000370|          oyAPndV IN|         12|22-524-280-8721|  8982.79|   FURNITURE|ges. final packag...|            O|   172799.49| 1996-01-02|           6|      32.0|\n",
      "|      370|Customer#000000370|          oyAPndV IN|         12|22-524-280-8721|  8982.79|   FURNITURE|ges. final packag...|            O|   172799.49| 1996-01-02|           5|      24.0|\n",
      "|      370|Customer#000000370|          oyAPndV IN|         12|22-524-280-8721|  8982.79|   FURNITURE|ges. final packag...|            O|   172799.49| 1996-01-02|           4|      28.0|\n",
      "|      370|Customer#000000370|          oyAPndV IN|         12|22-524-280-8721|  8982.79|   FURNITURE|ges. final packag...|            O|   172799.49| 1996-01-02|           3|       8.0|\n",
      "|      370|Customer#000000370|          oyAPndV IN|         12|22-524-280-8721|  8982.79|   FURNITURE|ges. final packag...|            O|   172799.49| 1996-01-02|           2|      36.0|\n",
      "|      370|Customer#000000370|          oyAPndV IN|         12|22-524-280-8721|  8982.79|   FURNITURE|ges. final packag...|            O|   172799.49| 1996-01-02|           1|      17.0|\n",
      "|      781|Customer#000000781|FQCAkyfV0 kL3,FNA...|         18|28-478-388-5881|  6403.62|   MACHINERY|ake blithely blit...|            O|    38426.09| 1996-12-01|           1|      38.0|\n",
      "|     1234|Customer#000001234|B3OhbH0MRJE,F0Lc7...|          1|11-742-434-6436|  -982.32|   FURNITURE|y ironic instruct...|            F|    205654.3| 1993-10-14|           6|      26.0|\n",
      "|     1234|Customer#000001234|B3OhbH0MRJE,F0Lc7...|          1|11-742-434-6436|  -982.32|   FURNITURE|y ironic instruct...|            F|    205654.3| 1993-10-14|           5|      28.0|\n",
      "|     1234|Customer#000001234|B3OhbH0MRJE,F0Lc7...|          1|11-742-434-6436|  -982.32|   FURNITURE|y ironic instruct...|            F|    205654.3| 1993-10-14|           4|       2.0|\n",
      "|     1234|Customer#000001234|B3OhbH0MRJE,F0Lc7...|          1|11-742-434-6436|  -982.32|   FURNITURE|y ironic instruct...|            F|    205654.3| 1993-10-14|           3|      27.0|\n",
      "|     1234|Customer#000001234|B3OhbH0MRJE,F0Lc7...|          1|11-742-434-6436|  -982.32|   FURNITURE|y ironic instruct...|            F|    205654.3| 1993-10-14|           2|      49.0|\n",
      "|     1234|Customer#000001234|B3OhbH0MRJE,F0Lc7...|          1|11-742-434-6436|  -982.32|   FURNITURE|y ironic instruct...|            F|    205654.3| 1993-10-14|           1|      45.0|\n",
      "|     1369|Customer#000001369|rXTwOzU0a2ak4Nj5L...|         10|20-232-617-7418|   498.77|  AUTOMOBILE|ong the ironic id...|            O|    56000.91| 1995-10-11|           1|      30.0|\n",
      "|      445|Customer#000000445|MX1UA0KUJzIGyWM p...|         20|30-849-846-6070|  8018.81|   FURNITURE|e ironic, special...|            F|   105367.67| 1994-07-30|           3|      50.0|\n",
      "|      445|Customer#000000445|MX1UA0KUJzIGyWM p...|         20|30-849-846-6070|  8018.81|   FURNITURE|e ironic, special...|            F|   105367.67| 1994-07-30|           2|      26.0|\n",
      "|      445|Customer#000000445|MX1UA0KUJzIGyWM p...|         20|30-849-846-6070|  8018.81|   FURNITURE|e ironic, special...|            F|   105367.67| 1994-07-30|           1|      15.0|\n",
      "|      557|Customer#000000557|          Nt6FUuDR7v|         15|25-390-153-6699|  9559.04|    BUILDING|furiously pending...|            F|     45523.1| 1992-02-21|           1|      37.0|\n",
      "|      392|Customer#000000392|          H7M6JObndO|         17|27-601-793-2507|  8492.33|    BUILDING|efully bold ideas...|            O|   271885.66| 1996-01-10|           7|       5.0|\n",
      "|      392|Customer#000000392|          H7M6JObndO|         17|27-601-793-2507|  8492.33|    BUILDING|efully bold ideas...|            O|   271885.66| 1996-01-10|           6|      35.0|\n",
      "+---------+------------------+--------------------+-----------+---------------+---------+------------+--------------------+-------------+------------+-----------+------------+----------+\n",
      "only showing top 20 rows\n",
      "\n"
     ]
    }
   ],
   "source": [
    "joindf.show()"
   ]
  },
  {
   "cell_type": "code",
   "execution_count": 21,
   "id": "a56400d0",
   "metadata": {},
   "outputs": [
    {
     "name": "stderr",
     "output_type": "stream",
     "text": [
      "\r",
      "[Stage 36:>                                                         (0 + 1) / 1]\r"
     ]
    },
    {
     "name": "stdout",
     "output_type": "stream",
     "text": [
      "+---------------+------------------+\n",
      "|        O_CLERK| sum(O_TOTALPRICE)|\n",
      "+---------------+------------------+\n",
      "|Clerk#000000024|        2078084.41|\n",
      "|Clerk#000000288|        1431028.03|\n",
      "|Clerk#000000236|        2571896.97|\n",
      "|Clerk#000000093|3388791.1500000004|\n",
      "|Clerk#000000124|        1683034.58|\n",
      "|Clerk#000000011|2032237.1699999995|\n",
      "|Clerk#000000114|1596777.3599999999|\n",
      "|Clerk#000000022|         1250757.7|\n",
      "|Clerk#000000474|1669808.3399999999|\n",
      "|Clerk#000000723| 923212.7899999999|\n",
      "|Clerk#000000903|2984974.0700000008|\n",
      "|Clerk#000000398|        1799587.31|\n",
      "|Clerk#000000744|         2078169.2|\n",
      "|Clerk#000000912|1728371.5500000005|\n",
      "|Clerk#000000644|         2357482.5|\n",
      "|Clerk#000000766|        1941942.28|\n",
      "|Clerk#000000674|         941649.11|\n",
      "|Clerk#000000821|2854880.0399999996|\n",
      "|Clerk#000000424|1509396.7800000003|\n",
      "|Clerk#000000087|        1396516.85|\n",
      "+---------------+------------------+\n",
      "only showing top 20 rows\n",
      "\n"
     ]
    },
    {
     "name": "stderr",
     "output_type": "stream",
     "text": [
      "\r",
      "                                                                                \r"
     ]
    }
   ],
   "source": [
    "grpdf = ordersdf.groupBy(\"O_CLERK\").sum(\"O_TOTALPRICE\")\n",
    "grpdf.show()"
   ]
  },
  {
   "cell_type": "code",
   "execution_count": 32,
   "id": "6cffb914",
   "metadata": {},
   "outputs": [],
   "source": [
    "test = joindf.repartition(9)"
   ]
  },
  {
   "cell_type": "code",
   "execution_count": 33,
   "id": "f33c6528",
   "metadata": {},
   "outputs": [
    {
     "name": "stderr",
     "output_type": "stream",
     "text": [
      "                                                                                \r"
     ]
    }
   ],
   "source": [
    "test.coalesce(1).write.mode(\"append\").parquet(\"/home/labuser/Downloads/output\")"
   ]
  },
  {
   "cell_type": "code",
   "execution_count": null,
   "id": "713792c8",
   "metadata": {},
   "outputs": [],
   "source": []
  }
 ],
 "metadata": {
  "kernelspec": {
   "display_name": "Python 3 (ipykernel)",
   "language": "python",
   "name": "python3"
  },
  "language_info": {
   "codemirror_mode": {
    "name": "ipython",
    "version": 3
   },
   "file_extension": ".py",
   "mimetype": "text/x-python",
   "name": "python",
   "nbconvert_exporter": "python",
   "pygments_lexer": "ipython3",
   "version": "3.11.4"
  }
 },
 "nbformat": 4,
 "nbformat_minor": 5
}
