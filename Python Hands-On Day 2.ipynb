{
 "cells": [
  {
   "cell_type": "code",
   "execution_count": 3,
   "id": "87ca09e7",
   "metadata": {},
   "outputs": [
    {
     "name": "stdout",
     "output_type": "stream",
     "text": [
      "volume: 4.009301579664823 m^3\n"
     ]
    }
   ],
   "source": [
    "#calculate volume of gas\n",
    "\"\"\"\n",
    "09/19/2023 - SD - Created a function to calculate the volume of the gas.\n",
    "Args:\n",
    "    pressure (float): Pressure in Pascals(Pa).\n",
    "    gas_constant (float): Gas constant for the specific gas.\n",
    "    temperature (float): Temperature in Kelvin (K).\n",
    "    \n",
    "Returns:\n",
    "    float: Volume in cubic meters (m^3).\n",
    "\"\"\"\n",
    "\n",
    "def vol_of_gas(pressure, gas_constant, temperature):\n",
    "    a = pressure * 1.0\n",
    "    b = gas_constant * temperature\n",
    "    c = a/b\n",
    "    return c\n",
    "\n",
    "gas_vol = vol_of_gas(10000, 8.314, 300)\n",
    "print(f\"volume: {gas_vol} m^3\")\n"
   ]
  },
  {
   "cell_type": "code",
   "execution_count": 7,
   "id": "cce059de",
   "metadata": {},
   "outputs": [
    {
     "name": "stdout",
     "output_type": "stream",
     "text": [
      "mass of gas: 56130.222115307515\n"
     ]
    }
   ],
   "source": [
    "\"\"\"\n",
    "09/19/2023 - SD - Created a function to calculate the mass of the gas.\n",
    "Args:\n",
    "    pressure (float): Pressure in Pascals(Pa).\n",
    "    gas_constant (float): Gas constant for the specific gas.\n",
    "    temperature (float): Temperature in Kelvin (K).\n",
    "    molar_mass (float): Molar mass in gm/mol \n",
    "    \n",
    "Returns:\n",
    "    float: Mass of the gas in gm.\n",
    "\"\"\"\n",
    "def mass_of_gas (pressure, gas_constant, temperature, molar_mass):\n",
    "    a = vol_of_gas(pressure, gas_constant, temperature) * molar_mass\n",
    "    return a * 1000\n",
    "\n",
    "gas_mass = mass_of_gas(10000, 8.314, 300,14) \n",
    "print(f\"mass of gas: {gas_mass}\")"
   ]
  },
  {
   "cell_type": "code",
   "execution_count": 10,
   "id": "717b38ff",
   "metadata": {},
   "outputs": [
    {
     "data": {
      "text/plain": [
       "120"
      ]
     },
     "execution_count": 10,
     "metadata": {},
     "output_type": "execute_result"
    }
   ],
   "source": [
    "\"\"\"\n",
    "09/19/2023 - SD - Created a recursive function to calculate the factorial.\n",
    "Args:\n",
    "    num (int): Number for factorial calculation\n",
    "    \n",
    "Returns:\n",
    "    int: factorial of the number.\n",
    "\"\"\"\n",
    "\n",
    "def factorial(num):\n",
    "    if(num==0): # base condition\n",
    "        return 1\n",
    "    else: \n",
    "        return num * factorial(num-1) # recursive call\n",
    "    \n",
    "factorial (5)"
   ]
  },
  {
   "cell_type": "code",
   "execution_count": 12,
   "id": "5cabf485",
   "metadata": {},
   "outputs": [
    {
     "data": {
      "text/plain": [
       "6"
      ]
     },
     "execution_count": 12,
     "metadata": {},
     "output_type": "execute_result"
    }
   ],
   "source": [
    "\"\"\"\n",
    "09/19/2023 - SD - Created a recursive function to calculate the sum of segment depths.\n",
    "Args:\n",
    "    segments (list): List of segment depths for segment depth calculation\n",
    "    \n",
    "Returns:\n",
    "    int: sum of segment depths.\n",
    "\"\"\"\n",
    "def calculate_total_depth(segments):\n",
    "    if not segments:\n",
    "        return 0\n",
    "    else:\n",
    "        curr_seg_depth = segments[0]\n",
    "        remaining_seg = segments[1:]\n",
    "        return curr_seg_depth+calculate_total_depth(remaining_seg)\n",
    "    \n",
    "calculate_total_depth([1,2,3])"
   ]
  },
  {
   "cell_type": "code",
   "execution_count": 13,
   "id": "14c12e46",
   "metadata": {},
   "outputs": [
    {
     "name": "stdout",
     "output_type": "stream",
     "text": [
      "1\n",
      "4\n",
      "9\n",
      "16\n",
      "25\n"
     ]
    }
   ],
   "source": [
    "\"\"\"\n",
    "09/19/2023 - SD - Created a generator function to calculate the square of numbers.\n",
    "Args:\n",
    "    n (int): Number upto which we calculate squares\n",
    "    \n",
    "Returns:\n",
    "    int: saves each number's sqaure\n",
    "\"\"\"\n",
    "def generate_squares(n):\n",
    "    for i in range(1,n+1):\n",
    "        yield i **2\n",
    "        \n",
    "for i in generate_squares(5):\n",
    "    print(i)"
   ]
  },
  {
   "cell_type": "code",
   "execution_count": 22,
   "id": "c943a1cd",
   "metadata": {},
   "outputs": [
    {
     "name": "stdout",
     "output_type": "stream",
     "text": [
      "January: 1000.0\n",
      "February: 1000.0\n",
      "March: 1000.0\n",
      "April: 1000.0\n",
      "May: 1000.0\n",
      "June: 1000.0\n",
      "July: 1000.0\n",
      "August: 1000.0\n",
      "Spetember: 1000.0\n",
      "October: 1000.0\n",
      "November: 1000.0\n",
      "December: 1000.0\n"
     ]
    }
   ],
   "source": [
    "\"\"\"\n",
    "09/19/2023 - SD - Created a generator function to calculate the monthly oil production.\n",
    "Args:\n",
    "    yearly_value (int): Number for whole year oil production\n",
    "    \n",
    "Returns:\n",
    "    int: saves monthly oil production in key-value form\n",
    "\"\"\"\n",
    "\n",
    "import logging\n",
    "    \n",
    "def my_decorator(func):\n",
    "    def wrapper(*args, **kwargs):\n",
    "        logging.info(f\"Function Started: {func.__name__}\")\n",
    "        result = func(*args, **kwargs)\n",
    "        logging.info(f\"Function Completed!: {func.__name__}\")\n",
    "        return result\n",
    "    return wrapper\n",
    "\n",
    "@my_decorator\n",
    "def oil_production_m(yearly_value):\n",
    "    months = [\"January\",\"February\",\"March\",\"April\",\"May\",\"June\",\"July\",\"August\",\"Spetember\",\"October\",\"November\",\"December\"]\n",
    "    monthly_oil_prod = yearly_value/12\n",
    "    \n",
    "    for month in months:\n",
    "        yield month, monthly_oil_prod\n",
    "        \n",
    "for month,production in oil_production_m(12000):\n",
    "    print(f\"{month}: {production}\")\n",
    "    "
   ]
  },
  {
   "cell_type": "code",
   "execution_count": 23,
   "id": "3bd22e9c",
   "metadata": {},
   "outputs": [],
   "source": [
    "def calculate_energy_content(composition):\n",
    "    lhv = 0\n",
    "    for gas, percentage in composition.items():\n",
    "        #LHV values for common gases(in J/Kg)\n",
    "        lhv_values = {\n",
    "            \"methane\": 50000,\n",
    "            \"ethane\": 48000,\n",
    "            \"propane\": 46000,\n",
    "            \"butane\": 45000,\n",
    "        }\n",
    "        if gas in lhv_values:\n",
    "            lhv += lhv_values[gas] * (percentage/100)\n",
    "    return lhv\n",
    "gas_composition = {\"methane\": 80, \"ethane\": 10, \"propane\": 5, \"butane\": 5}"
   ]
  },
  {
   "cell_type": "code",
   "execution_count": 1,
   "id": "c4fd9edf",
   "metadata": {},
   "outputs": [],
   "source": [
    "class Person:\n",
    "    def __init__(self, name, age):\n",
    "        self.name = name\n",
    "        self.age = age\n",
    "        \n",
    "    def greet(self):\n",
    "        return f\"Hello, my name is {self.name} and I am {self.age} years old.\"\n",
    "    \n",
    "    def have_birthday(self):\n",
    "        self.age+= 1\n",
    "        return f\"Happy Birthday to {self.name}! They are now {self.age} years old.\"\n",
    "    \n"
   ]
  },
  {
   "cell_type": "code",
   "execution_count": 2,
   "id": "83cf6a71",
   "metadata": {},
   "outputs": [],
   "source": [
    "abc = Person(\"abc\",20)"
   ]
  },
  {
   "cell_type": "code",
   "execution_count": 3,
   "id": "a0bfa49d",
   "metadata": {},
   "outputs": [
    {
     "data": {
      "text/plain": [
       "'abc'"
      ]
     },
     "execution_count": 3,
     "metadata": {},
     "output_type": "execute_result"
    }
   ],
   "source": [
    "abc.name"
   ]
  },
  {
   "cell_type": "code",
   "execution_count": 4,
   "id": "38a1b4ec",
   "metadata": {},
   "outputs": [
    {
     "data": {
      "text/plain": [
       "20"
      ]
     },
     "execution_count": 4,
     "metadata": {},
     "output_type": "execute_result"
    }
   ],
   "source": [
    "abc.age"
   ]
  },
  {
   "cell_type": "code",
   "execution_count": 10,
   "id": "0a0df29b",
   "metadata": {},
   "outputs": [],
   "source": [
    "class Petro_Labs:\n",
    "    \n",
    "    def __init__(self):\n",
    "        print(\"\")\n",
    "    \n",
    "    def vol_of_gas(self, pressure, gas_constant, temperature):\n",
    "        a = pressure * 1.0\n",
    "        b = gas_constant * temperature\n",
    "        c = a/b\n",
    "        return c\n",
    "    \n",
    "    def mass_of_gas (self, pressure, gas_constant, temperature, molar_mass):\n",
    "        a = vol_of_gas(pressure, gas_constant, temperature) * molar_mass\n",
    "        return a * 1000\n",
    "    \n",
    "    def calculate_total_depth(self, segments):\n",
    "        if not segments:\n",
    "            return 0\n",
    "        else:\n",
    "            curr_seg_depth = segments[0]\n",
    "            remaining_seg = segments[1:]\n",
    "            return curr_seg_depth+self.calculate_total_depth(remaining_seg)\n",
    "    \n",
    "    def oil_production_m(self, yearly_value):\n",
    "        months = [\"January\",\"February\",\"March\",\"April\",\"May\",\"June\",\"July\",\"August\",\"Spetember\",\"October\",\"November\",\"December\"]\n",
    "        monthly_oil_prod = yearly_value/12\n",
    "\n",
    "        for month in months:\n",
    "            yield month, monthly_oil_prod"
   ]
  },
  {
   "cell_type": "code",
   "execution_count": 11,
   "id": "ebb11123",
   "metadata": {},
   "outputs": [
    {
     "name": "stdout",
     "output_type": "stream",
     "text": [
      "\n"
     ]
    },
    {
     "data": {
      "text/plain": [
       "26.219192448872576"
      ]
     },
     "execution_count": 11,
     "metadata": {},
     "output_type": "execute_result"
    }
   ],
   "source": [
    "pl = Petro_Labs()\n",
    "pl.vol_of_gas(10000, 3.814, 100)"
   ]
  },
  {
   "cell_type": "code",
   "execution_count": 16,
   "id": "06e7c458",
   "metadata": {},
   "outputs": [
    {
     "name": "stdout",
     "output_type": "stream",
     "text": [
      "1695113733.0306013\n",
      "2023-09-19\n"
     ]
    }
   ],
   "source": [
    "import time\n",
    "from datetime import datetime\n",
    "curr_timestamp = time.time()\n",
    "print(curr_timestamp)\n",
    "\n",
    "test = datetime.fromtimestamp(curr_timestamp).strftime('%Y-%m-%d')\n",
    "print(test)"
   ]
  },
  {
   "cell_type": "code",
   "execution_count": 20,
   "id": "b8f4e6aa",
   "metadata": {},
   "outputs": [
    {
     "name": "stdout",
     "output_type": "stream",
     "text": [
      "08\n"
     ]
    }
   ],
   "source": [
    "curr_datetime = datetime.now().strftime('%H')\n",
    "print(curr_datetime)"
   ]
  },
  {
   "cell_type": "code",
   "execution_count": 24,
   "id": "a7fc7a0d",
   "metadata": {},
   "outputs": [
    {
     "name": "stdout",
     "output_type": "stream",
     "text": [
      "2023-09-19 09:03:49.208156\n"
     ]
    }
   ],
   "source": [
    "curr_datetime = datetime.now()\n",
    "print(curr_datetime)"
   ]
  },
  {
   "cell_type": "code",
   "execution_count": 22,
   "id": "3bb0c0b5",
   "metadata": {},
   "outputs": [
    {
     "name": "stdout",
     "output_type": "stream",
     "text": [
      "Sep\n"
     ]
    }
   ],
   "source": [
    "curr_datetime = datetime.now().strftime('%h')\n",
    "print(curr_datetime)"
   ]
  },
  {
   "cell_type": "code",
   "execution_count": 23,
   "id": "29c5f024",
   "metadata": {},
   "outputs": [
    {
     "name": "stdout",
     "output_type": "stream",
     "text": [
      "03\n"
     ]
    }
   ],
   "source": [
    "curr_datetime = datetime.now().strftime('%M')\n",
    "print(curr_datetime)"
   ]
  },
  {
   "cell_type": "code",
   "execution_count": 25,
   "id": "b2a929b8",
   "metadata": {},
   "outputs": [
    {
     "name": "stdout",
     "output_type": "stream",
     "text": [
      "09\n"
     ]
    }
   ],
   "source": [
    "curr_datetime = datetime.now().strftime('%m')\n",
    "print(curr_datetime)"
   ]
  },
  {
   "cell_type": "code",
   "execution_count": 26,
   "id": "a8f015b2",
   "metadata": {},
   "outputs": [
    {
     "name": "stdout",
     "output_type": "stream",
     "text": [
      "1695114268\n"
     ]
    }
   ],
   "source": [
    "curr_datetime = datetime.now().strftime('%s')\n",
    "print(curr_datetime)"
   ]
  },
  {
   "cell_type": "code",
   "execution_count": 27,
   "id": "fa75830b",
   "metadata": {},
   "outputs": [
    {
     "name": "stdout",
     "output_type": "stream",
     "text": [
      "34\n"
     ]
    }
   ],
   "source": [
    "curr_datetime = datetime.now().strftime('%S')\n",
    "print(curr_datetime)"
   ]
  },
  {
   "cell_type": "code",
   "execution_count": 30,
   "id": "a40b113e",
   "metadata": {},
   "outputs": [
    {
     "name": "stdout",
     "output_type": "stream",
     "text": [
      "Error: Someone divided by zero\n"
     ]
    }
   ],
   "source": [
    "a=10\n",
    "b=0\n",
    "try:\n",
    "    result = a/b\n",
    "    print(result)\n",
    "except:\n",
    "    print(\"Error: Someone divided by zero\")"
   ]
  },
  {
   "cell_type": "code",
   "execution_count": 31,
   "id": "20d12bc9",
   "metadata": {},
   "outputs": [
    {
     "name": "stdout",
     "output_type": "stream",
     "text": [
      "[1, 4, 9, 16, 25]\n"
     ]
    }
   ],
   "source": [
    "new_list = [i**2 for i in range(1,6)]\n",
    "print(new_list)"
   ]
  },
  {
   "cell_type": "code",
   "execution_count": 32,
   "id": "b1b1f44c",
   "metadata": {},
   "outputs": [
    {
     "name": "stdout",
     "output_type": "stream",
     "text": [
      "[2, 4, 6, 8, 10]\n"
     ]
    }
   ],
   "source": [
    "even_num = [i for i in range(1,11) if i%2 == 0]\n",
    "print(even_num)\n"
   ]
  },
  {
   "cell_type": "code",
   "execution_count": 34,
   "id": "64791328",
   "metadata": {},
   "outputs": [
    {
     "name": "stdout",
     "output_type": "stream",
     "text": [
      "9\n"
     ]
    }
   ],
   "source": [
    "\n",
    "add = lambda a,b : a+b\n",
    "print(add(5,4))"
   ]
  },
  {
   "cell_type": "code",
   "execution_count": null,
   "id": "a5b0b786",
   "metadata": {},
   "outputs": [],
   "source": []
  }
 ],
 "metadata": {
  "kernelspec": {
   "display_name": "Python 3 (ipykernel)",
   "language": "python",
   "name": "python3"
  },
  "language_info": {
   "codemirror_mode": {
    "name": "ipython",
    "version": 3
   },
   "file_extension": ".py",
   "mimetype": "text/x-python",
   "name": "python",
   "nbconvert_exporter": "python",
   "pygments_lexer": "ipython3",
   "version": "3.11.4"
  }
 },
 "nbformat": 4,
 "nbformat_minor": 5
}
