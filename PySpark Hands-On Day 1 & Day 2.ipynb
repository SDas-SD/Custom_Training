{
 "cells": [
  {
   "cell_type": "code",
   "execution_count": 1,
   "id": "a8ae1108",
   "metadata": {},
   "outputs": [],
   "source": [
    "import findspark\n",
    "findspark.init()"
   ]
  },
  {
   "cell_type": "code",
   "execution_count": 2,
   "id": "6a5eccc4",
   "metadata": {},
   "outputs": [
    {
     "name": "stderr",
     "output_type": "stream",
     "text": [
      "Setting default log level to \"WARN\".\n",
      "To adjust logging level use sc.setLogLevel(newLevel). For SparkR, use setLogLevel(newLevel).\n",
      "23/09/22 03:44:29 WARN NativeCodeLoader: Unable to load native-hadoop library for your platform... using builtin-java classes where applicable\n"
     ]
    }
   ],
   "source": [
    "from pyspark.sql import SparkSession\n",
    "\n",
    "#Initialize SparkSession\n",
    "spark = SparkSession.builder.appName(\"WordCount\").getOrCreate()"
   ]
  },
  {
   "cell_type": "code",
   "execution_count": 3,
   "id": "be814f6f",
   "metadata": {},
   "outputs": [],
   "source": [
    "sc = spark.sparkContext"
   ]
  },
  {
   "cell_type": "code",
   "execution_count": 4,
   "id": "bb0fd703",
   "metadata": {},
   "outputs": [],
   "source": [
    "rdd = sc.parallelize([1,2,3,4,5])"
   ]
  },
  {
   "cell_type": "code",
   "execution_count": 5,
   "id": "c54a1e0b",
   "metadata": {},
   "outputs": [
    {
     "name": "stderr",
     "output_type": "stream",
     "text": [
      "                                                                                \r"
     ]
    },
    {
     "data": {
      "text/plain": [
       "[1, 2, 3, 4, 5]"
      ]
     },
     "execution_count": 5,
     "metadata": {},
     "output_type": "execute_result"
    }
   ],
   "source": [
    "rdd.collect()"
   ]
  },
  {
   "cell_type": "code",
   "execution_count": 6,
   "id": "1a2eb2f1",
   "metadata": {},
   "outputs": [
    {
     "name": "stderr",
     "output_type": "stream",
     "text": [
      "                                                                                \r"
     ]
    },
    {
     "data": {
      "text/plain": [
       "[2, 4, 6, 8, 10]"
      ]
     },
     "execution_count": 6,
     "metadata": {},
     "output_type": "execute_result"
    }
   ],
   "source": [
    "resultRdd = rdd.map(lambda x: x*2)\n",
    "resultRdd.collect()"
   ]
  },
  {
   "cell_type": "code",
   "execution_count": 7,
   "id": "121f58bb",
   "metadata": {},
   "outputs": [],
   "source": [
    "rdd1 = sc.parallelize([1,2,3,4,5])"
   ]
  },
  {
   "cell_type": "code",
   "execution_count": 8,
   "id": "5e7ac451",
   "metadata": {},
   "outputs": [
    {
     "data": {
      "text/plain": [
       "[1, 2, 2, 4, 3, 6, 4, 8, 5, 10]"
      ]
     },
     "execution_count": 8,
     "metadata": {},
     "output_type": "execute_result"
    }
   ],
   "source": [
    "resultRdd1 = rdd1.flatMap(lambda x:(x,x*2))\n",
    "resultRdd1.collect()"
   ]
  },
  {
   "cell_type": "code",
   "execution_count": 9,
   "id": "91c2fc2f",
   "metadata": {},
   "outputs": [],
   "source": [
    "rdd2 = sc.parallelize([1,2,3,4,5])\n"
   ]
  },
  {
   "cell_type": "code",
   "execution_count": 10,
   "id": "4c244192",
   "metadata": {},
   "outputs": [
    {
     "data": {
      "text/plain": [
       "[2, 4]"
      ]
     },
     "execution_count": 10,
     "metadata": {},
     "output_type": "execute_result"
    }
   ],
   "source": [
    "resultRdd2 = rdd2.filter(lambda x: x%2 ==0)\n",
    "resultRdd2.collect()"
   ]
  },
  {
   "cell_type": "code",
   "execution_count": 11,
   "id": "f5b0a76f",
   "metadata": {},
   "outputs": [],
   "source": [
    "rdd3 = sc.parallelize([(1,2),(3,4),(1,6),(7,8)])"
   ]
  },
  {
   "cell_type": "code",
   "execution_count": 12,
   "id": "d1af3808",
   "metadata": {},
   "outputs": [
    {
     "name": "stderr",
     "output_type": "stream",
     "text": [
      "                                                                                \r"
     ]
    },
    {
     "data": {
      "text/plain": [
       "[(1, 8), (3, 4), (7, 8)]"
      ]
     },
     "execution_count": 12,
     "metadata": {},
     "output_type": "execute_result"
    }
   ],
   "source": [
    "resultRdd3 = rdd3.reduceByKey(lambda x,y:x+y)\n",
    "resultRdd3.collect()"
   ]
  },
  {
   "cell_type": "code",
   "execution_count": 13,
   "id": "30d8676e",
   "metadata": {},
   "outputs": [
    {
     "data": {
      "text/plain": [
       "[(1, <pyspark.resultiterable.ResultIterable at 0x7f3fe1600290>),\n",
       " (3, <pyspark.resultiterable.ResultIterable at 0x7f3fe16002d0>),\n",
       " (7, <pyspark.resultiterable.ResultIterable at 0x7f3fe16000d0>)]"
      ]
     },
     "execution_count": 13,
     "metadata": {},
     "output_type": "execute_result"
    }
   ],
   "source": [
    "resultRdd4 = rdd3.groupByKey()\n",
    "resultRdd4.collect()"
   ]
  },
  {
   "cell_type": "code",
   "execution_count": 14,
   "id": "3a6e17fc",
   "metadata": {},
   "outputs": [
    {
     "name": "stdout",
     "output_type": "stream",
     "text": [
      "Key: 1, Values: [2, 6]\n",
      "Key: 3, Values: [4]\n",
      "Key: 7, Values: [8]\n"
     ]
    }
   ],
   "source": [
    "for key, values in resultRdd4.collect():\n",
    "    print(f\"Key: {key}, Values: {list(values)}\")"
   ]
  },
  {
   "cell_type": "code",
   "execution_count": 15,
   "id": "2365ed04",
   "metadata": {},
   "outputs": [
    {
     "data": {
      "text/plain": [
       "[('b', 1), ('c', 1), ('a', 2)]"
      ]
     },
     "execution_count": 15,
     "metadata": {},
     "output_type": "execute_result"
    }
   ],
   "source": [
    "letters = [\"a\",\"a\",\"b\",\"c\"]\n",
    "rdd4  = sc.parallelize(letters)\n",
    "resultRdd5 = rdd4.map(lambda x: (x,1))\n",
    "result = resultRdd5.collect()\n",
    "rdd5 = sc.parallelize(result)\n",
    "resultRdd6= rdd5.reduceByKey(lambda x,y: x+y)\n",
    "resultRdd6.collect()"
   ]
  },
  {
   "cell_type": "code",
   "execution_count": 16,
   "id": "6d835021",
   "metadata": {},
   "outputs": [],
   "source": [
    "purchasedf=spark.read.csv(\"/home/labuser/Downloads/Pandas_datasets/purchases.csv\")"
   ]
  },
  {
   "cell_type": "code",
   "execution_count": 17,
   "id": "36eb1828",
   "metadata": {},
   "outputs": [
    {
     "name": "stdout",
     "output_type": "stream",
     "text": [
      "+------+------+-------+\n",
      "|   _c0|   _c1|    _c2|\n",
      "+------+------+-------+\n",
      "|  null|apples|oranges|\n",
      "|  June|     3|      0|\n",
      "|Robert|     2|      3|\n",
      "|  Lily|     0|      7|\n",
      "| David|     1|      2|\n",
      "+------+------+-------+\n",
      "\n"
     ]
    }
   ],
   "source": [
    "purchasedf.show()"
   ]
  },
  {
   "cell_type": "code",
   "execution_count": 18,
   "id": "8e8e35d5",
   "metadata": {},
   "outputs": [],
   "source": [
    "purchasedf_01=spark.read.option(\"inferSchema\", True).option(\"header\", True).csv(\"/home/labuser/Downloads/Pandas_datasets/purchases.csv\")"
   ]
  },
  {
   "cell_type": "code",
   "execution_count": 19,
   "id": "71d8910b",
   "metadata": {},
   "outputs": [
    {
     "name": "stdout",
     "output_type": "stream",
     "text": [
      "+------+------+-------+\n",
      "|   _c0|apples|oranges|\n",
      "+------+------+-------+\n",
      "|  June|     3|      0|\n",
      "|Robert|     2|      3|\n",
      "|  Lily|     0|      7|\n",
      "| David|     1|      2|\n",
      "+------+------+-------+\n",
      "\n"
     ]
    },
    {
     "name": "stderr",
     "output_type": "stream",
     "text": [
      "23/09/22 03:44:57 WARN CSVHeaderChecker: CSV header does not conform to the schema.\n",
      " Header: , apples, oranges\n",
      " Schema: _c0, apples, oranges\n",
      "Expected: _c0 but found: \n",
      "CSV file: file:///home/labuser/Downloads/Pandas_datasets/purchases.csv\n"
     ]
    }
   ],
   "source": [
    "purchasedf_01.show()"
   ]
  },
  {
   "cell_type": "code",
   "execution_count": 20,
   "id": "6c299070",
   "metadata": {},
   "outputs": [],
   "source": [
    "purchaserdd = sc.textFile(\"/home/labuser/Downloads/Pandas_datasets/purchases.csv\")"
   ]
  },
  {
   "cell_type": "code",
   "execution_count": 21,
   "id": "a8961e04",
   "metadata": {},
   "outputs": [
    {
     "data": {
      "text/plain": [
       "[',apples,oranges', 'June,3,0', 'Robert,2,3', 'Lily,0,7', 'David,1,2']"
      ]
     },
     "execution_count": 21,
     "metadata": {},
     "output_type": "execute_result"
    }
   ],
   "source": [
    "purchaserdd.collect()"
   ]
  },
  {
   "cell_type": "code",
   "execution_count": 41,
   "id": "4e9c4019",
   "metadata": {},
   "outputs": [],
   "source": [
    "moviedf=spark.read.schema(udfSchema).option(\"header\", True).csv(\"/home/labuser/Downloads/Pandas_datasets/IMDB-Movie-Data.csv\")"
   ]
  },
  {
   "cell_type": "code",
   "execution_count": 42,
   "id": "72adb018",
   "metadata": {},
   "outputs": [
    {
     "name": "stdout",
     "output_type": "stream",
     "text": [
      "root\n",
      " |-- Rank: integer (nullable = true)\n",
      " |-- Title: string (nullable = true)\n",
      " |-- Genre: string (nullable = true)\n",
      " |-- Description: string (nullable = true)\n",
      " |-- Director: string (nullable = true)\n",
      " |-- Actors: string (nullable = true)\n",
      " |-- Year: string (nullable = true)\n",
      " |-- Runtime (Minutes): string (nullable = true)\n",
      " |-- Rating: string (nullable = true)\n",
      " |-- Votes: string (nullable = true)\n",
      " |-- Revenue (Millions): double (nullable = true)\n",
      " |-- Metascore: double (nullable = true)\n",
      "\n"
     ]
    }
   ],
   "source": [
    "moviedf.printSchema()"
   ]
  },
  {
   "cell_type": "code",
   "execution_count": 40,
   "id": "a3362ba0",
   "metadata": {},
   "outputs": [],
   "source": [
    "from pyspark.sql.types import StructType, StructField, IntegerType, StringType, DoubleType\n",
    "udfSchema = StructType([StructField(\"Rank\", IntegerType(), True),\n",
    "                        StructField(\"Title\", StringType(), True),\n",
    "                        StructField(\"Genre\", StringType(), True),\n",
    "                        StructField(\"Description\", StringType(), True),\n",
    "                        StructField(\"Director\", StringType(), True),\n",
    "                        StructField(\"Actors\", StringType(), True),\n",
    "                        StructField(\"Year\", StringType(), True),\n",
    "                        StructField(\"Runtime (Minutes)\", StringType(), True),\n",
    "                        StructField(\"Rating\", StringType(), True),\n",
    "                        StructField(\"Votes\", StringType(), True),\n",
    "                        StructField(\"Revenue (Millions)\", DoubleType(), True),\n",
    "                        StructField(\"Metascore\", DoubleType(), True)])"
   ]
  },
  {
   "cell_type": "code",
   "execution_count": 43,
   "id": "275d2f90",
   "metadata": {},
   "outputs": [
    {
     "name": "stdout",
     "output_type": "stream",
     "text": [
      "+----+--------------------+--------------------+--------------------+--------------------+--------------------+--------------------+-----------------+------+------+------------------+---------+\n",
      "|Rank|               Title|               Genre|         Description|            Director|              Actors|                Year|Runtime (Minutes)|Rating| Votes|Revenue (Millions)|Metascore|\n",
      "+----+--------------------+--------------------+--------------------+--------------------+--------------------+--------------------+-----------------+------+------+------------------+---------+\n",
      "|   1|Guardians of the ...|Action,Adventure,...|A group of interg...|          James Gunn|Chris Pratt, Vin ...|                2014|              121|   8.1|757074|            333.13|     76.0|\n",
      "|   2|          Prometheus|Adventure,Mystery...|Following clues t...|        Ridley Scott|Noomi Rapace, Log...|                2012|              124|     7|485820|            126.46|     65.0|\n",
      "|   3|               Split|     Horror,Thriller|Three girls are k...|  M. Night Shyamalan|James McAvoy, Any...|                2016|              117|   7.3|157606|            138.12|     62.0|\n",
      "|   4|                Sing|Animation,Comedy,...|In a city of huma...|Christophe Lourdelet|Matthew McConaugh...|                2016|              108|   7.2| 60545|            270.32|     59.0|\n",
      "|   5|       Suicide Squad|Action,Adventure,...|A secret governme...|          David Ayer|Will Smith, Jared...|                2016|              123|   6.2|393727|            325.02|     40.0|\n",
      "|   6|      The Great Wall|Action,Adventure,...|European mercenar...|         Yimou Zhang|Matt Damon, Tian ...|                2016|              103|   6.1| 56036|             45.13|     42.0|\n",
      "|   7|          La La Land|  Comedy,Drama,Music|A jazz pianist fa...|     Damien Chazelle|Ryan Gosling, Emm...|                2016|              128|   8.3|258682|            151.06|     93.0|\n",
      "|   8|            Mindhorn|              Comedy|\"A has-been actor...| whom he believes...|          Sean Foley|Essie Davis, Andr...|             2016|    89|   6.4|            2490.0|     null|\n",
      "|   9|  The Lost City of Z|Action,Adventure,...|A true-life drama...|          James Gray|Charlie Hunnam, R...|                2016|              141|   7.1|  7188|              8.01|     78.0|\n",
      "|  10|          Passengers|Adventure,Drama,R...|A spacecraft trav...|       Morten Tyldum|Jennifer Lawrence...|                2016|              116|     7|192177|            100.01|     41.0|\n",
      "|  11|Fantastic Beasts ...|Adventure,Family,...|The adventures of...|         David Yates|Eddie Redmayne, K...|                2016|              133|   7.5|232072|            234.02|     66.0|\n",
      "|  12|      Hidden Figures|Biography,Drama,H...|The story of a te...|      Theodore Melfi|Taraji P. Henson,...|                2016|              127|   7.8| 93103|            169.27|     74.0|\n",
      "|  13|           Rogue One|Action,Adventure,...|The Rebel Allianc...|      Gareth Edwards|Felicity Jones, D...|                2016|              133|   7.9|323118|            532.17|     65.0|\n",
      "|  14|               Moana|Animation,Adventu...|In Ancient Polyne...|        Ron Clements|Auli'i Cravalho, ...|                2016|              107|   7.7|118151|            248.75|     81.0|\n",
      "|  15|            Colossal| Action,Comedy,Drama|Gloria is an out-...|     Nacho Vigalondo|Anne Hathaway, Ja...|                2016|              109|   6.4|  8612|              2.87|     70.0|\n",
      "|  16|The Secret Life o...|Animation,Adventu...|The quiet life of...|        Chris Renaud|Louis C.K., Eric ...|                2016|               87|   6.6|120259|            368.31|     61.0|\n",
      "|  17|       Hacksaw Ridge|Biography,Drama,H...|WWII American Arm...|          Mel Gibson|Andrew Garfield, ...|                2016|              139|   8.2|211760|             67.12|     71.0|\n",
      "|  18|        Jason Bourne|     Action,Thriller|The CIA's most da...|     Paul Greengrass|Matt Damon, Tommy...|                2016|              123|   6.7|150823|            162.16|     58.0|\n",
      "|  19|                Lion|     Biography,Drama|A five-year-old I...|         Garth Davis|Dev Patel, Nicole...|                2016|              118|   8.1|102061|             51.69|     69.0|\n",
      "|  20|             Arrival|Drama,Mystery,Sci-Fi|When twelve myste...|    Denis Villeneuve|Amy Adams, Jeremy...|                2016|              116|     8|340798|             100.5|     81.0|\n",
      "+----+--------------------+--------------------+--------------------+--------------------+--------------------+--------------------+-----------------+------+------+------------------+---------+\n",
      "only showing top 20 rows\n",
      "\n"
     ]
    }
   ],
   "source": [
    "moviedf.show()"
   ]
  },
  {
   "cell_type": "code",
   "execution_count": 52,
   "id": "77e4f7ba",
   "metadata": {},
   "outputs": [],
   "source": [
    "from pyspark.sql.functions import *\n",
    "moviedf = moviedf.withColumn(\"Rev_New\",col(\"Revenue (Millions)\")*100).withColumn(\"Batch\", lit(\"Batch3\"))"
   ]
  },
  {
   "cell_type": "code",
   "execution_count": 45,
   "id": "f3e252e8",
   "metadata": {},
   "outputs": [
    {
     "name": "stdout",
     "output_type": "stream",
     "text": [
      "+----+--------------------+--------------------+--------------------+--------------------+--------------------+--------------------+-----------------+------+------+------------------+---------+\n",
      "|Rank|               Title|               Genre|         Description|            Director|              Actors|                Year|Runtime (Minutes)|Rating| Votes|Revenue (Millions)|Metascore|\n",
      "+----+--------------------+--------------------+--------------------+--------------------+--------------------+--------------------+-----------------+------+------+------------------+---------+\n",
      "|   1|Guardians of the ...|Action,Adventure,...|A group of interg...|          James Gunn|Chris Pratt, Vin ...|                2014|              121|   8.1|757074|            333.13|     76.0|\n",
      "|   2|          Prometheus|Adventure,Mystery...|Following clues t...|        Ridley Scott|Noomi Rapace, Log...|                2012|              124|     7|485820|            126.46|     65.0|\n",
      "|   3|               Split|     Horror,Thriller|Three girls are k...|  M. Night Shyamalan|James McAvoy, Any...|                2016|              117|   7.3|157606|            138.12|     62.0|\n",
      "|   4|                Sing|Animation,Comedy,...|In a city of huma...|Christophe Lourdelet|Matthew McConaugh...|                2016|              108|   7.2| 60545|            270.32|     59.0|\n",
      "|   5|       Suicide Squad|Action,Adventure,...|A secret governme...|          David Ayer|Will Smith, Jared...|                2016|              123|   6.2|393727|            325.02|     40.0|\n",
      "|   6|      The Great Wall|Action,Adventure,...|European mercenar...|         Yimou Zhang|Matt Damon, Tian ...|                2016|              103|   6.1| 56036|             45.13|     42.0|\n",
      "|   7|          La La Land|  Comedy,Drama,Music|A jazz pianist fa...|     Damien Chazelle|Ryan Gosling, Emm...|                2016|              128|   8.3|258682|            151.06|     93.0|\n",
      "|   8|            Mindhorn|              Comedy|\"A has-been actor...| whom he believes...|          Sean Foley|Essie Davis, Andr...|             2016|    89|   6.4|            2490.0|     null|\n",
      "|   9|  The Lost City of Z|Action,Adventure,...|A true-life drama...|          James Gray|Charlie Hunnam, R...|                2016|              141|   7.1|  7188|              8.01|     78.0|\n",
      "|  10|          Passengers|Adventure,Drama,R...|A spacecraft trav...|       Morten Tyldum|Jennifer Lawrence...|                2016|              116|     7|192177|            100.01|     41.0|\n",
      "|  11|Fantastic Beasts ...|Adventure,Family,...|The adventures of...|         David Yates|Eddie Redmayne, K...|                2016|              133|   7.5|232072|            234.02|     66.0|\n",
      "|  12|      Hidden Figures|Biography,Drama,H...|The story of a te...|      Theodore Melfi|Taraji P. Henson,...|                2016|              127|   7.8| 93103|            169.27|     74.0|\n",
      "|  13|           Rogue One|Action,Adventure,...|The Rebel Allianc...|      Gareth Edwards|Felicity Jones, D...|                2016|              133|   7.9|323118|            532.17|     65.0|\n",
      "|  14|               Moana|Animation,Adventu...|In Ancient Polyne...|        Ron Clements|Auli'i Cravalho, ...|                2016|              107|   7.7|118151|            248.75|     81.0|\n",
      "|  15|            Colossal| Action,Comedy,Drama|Gloria is an out-...|     Nacho Vigalondo|Anne Hathaway, Ja...|                2016|              109|   6.4|  8612|              2.87|     70.0|\n",
      "|  16|The Secret Life o...|Animation,Adventu...|The quiet life of...|        Chris Renaud|Louis C.K., Eric ...|                2016|               87|   6.6|120259|            368.31|     61.0|\n",
      "|  17|       Hacksaw Ridge|Biography,Drama,H...|WWII American Arm...|          Mel Gibson|Andrew Garfield, ...|                2016|              139|   8.2|211760|             67.12|     71.0|\n",
      "|  18|        Jason Bourne|     Action,Thriller|The CIA's most da...|     Paul Greengrass|Matt Damon, Tommy...|                2016|              123|   6.7|150823|            162.16|     58.0|\n",
      "|  19|                Lion|     Biography,Drama|A five-year-old I...|         Garth Davis|Dev Patel, Nicole...|                2016|              118|   8.1|102061|             51.69|     69.0|\n",
      "|  20|             Arrival|Drama,Mystery,Sci-Fi|When twelve myste...|    Denis Villeneuve|Amy Adams, Jeremy...|                2016|              116|     8|340798|             100.5|     81.0|\n",
      "+----+--------------------+--------------------+--------------------+--------------------+--------------------+--------------------+-----------------+------+------+------------------+---------+\n",
      "only showing top 20 rows\n",
      "\n"
     ]
    }
   ],
   "source": [
    "moviedf.show()"
   ]
  },
  {
   "cell_type": "code",
   "execution_count": 46,
   "id": "ae4ab1a0",
   "metadata": {},
   "outputs": [
    {
     "name": "stderr",
     "output_type": "stream",
     "text": [
      "23/09/22 04:28:21 WARN CSVHeaderChecker: CSV header does not conform to the schema.\n",
      " Header: Rank, Title, Genre, Description, Director, Actors, Year, Runtime (Minutes), Rating, Votes, Revenue (Millions), Metascore\n",
      " Schema: Rank, Title, Genre, Description, Director, Actors, Year, Runtime, Rating, Votes, Revenue, Metascore\n",
      "Expected: Runtime but found: Runtime (Minutes)\n",
      "CSV file: file:///home/labuser/Downloads/Pandas_datasets/IMDB-Movie-Data.csv\n"
     ]
    },
    {
     "data": {
      "text/plain": [
       "9"
      ]
     },
     "execution_count": 46,
     "metadata": {},
     "output_type": "execute_result"
    }
   ],
   "source": [
    "newdf.rdd.getNumPartitions()"
   ]
  },
  {
   "cell_type": "code",
   "execution_count": 47,
   "id": "3deb77f2",
   "metadata": {},
   "outputs": [],
   "source": [
    "newdf = moviedf.repartition(9)"
   ]
  },
  {
   "cell_type": "code",
   "execution_count": 49,
   "id": "b7e4cba6",
   "metadata": {},
   "outputs": [
    {
     "name": "stderr",
     "output_type": "stream",
     "text": [
      "\r",
      "[Stage 32:=============================================>            (7 + 2) / 9]\r",
      "\r",
      "                                                                                \r"
     ]
    }
   ],
   "source": [
    "newdf.write.csv('/home/labuser/Downloads/TestPartition/partitions_01')"
   ]
  },
  {
   "cell_type": "code",
   "execution_count": null,
   "id": "3514a7ea",
   "metadata": {},
   "outputs": [],
   "source": [
    "spark_ui_url = f'{spark.jsc.sc().uiWebUrl().get()}/'"
   ]
  },
  {
   "cell_type": "code",
   "execution_count": 51,
   "id": "66c4aa33",
   "metadata": {},
   "outputs": [
    {
     "data": {
      "text/plain": [
       "'http://ip-172-31-8-237.ap-south-1.compute.internal:4040'"
      ]
     },
     "execution_count": 51,
     "metadata": {},
     "output_type": "execute_result"
    }
   ],
   "source": [
    "sc.uiWebUrl"
   ]
  },
  {
   "cell_type": "code",
   "execution_count": 53,
   "id": "d814878d",
   "metadata": {},
   "outputs": [
    {
     "data": {
      "text/plain": [
       "True"
      ]
     },
     "execution_count": 53,
     "metadata": {},
     "output_type": "execute_result"
    }
   ],
   "source": [
    "import webbrowser\n",
    "webbrowser.open_new_tab(sc.uiWebUrl)"
   ]
  },
  {
   "cell_type": "code",
   "execution_count": 58,
   "id": "814d17b8",
   "metadata": {},
   "outputs": [],
   "source": [
    "moviedf.createOrReplaceTempView(\"movie\")"
   ]
  },
  {
   "cell_type": "code",
   "execution_count": 59,
   "id": "2e85aa3b",
   "metadata": {},
   "outputs": [],
   "source": [
    "result = spark.sql(\"select * from movie\")"
   ]
  },
  {
   "cell_type": "code",
   "execution_count": 60,
   "id": "41404bd6",
   "metadata": {},
   "outputs": [
    {
     "data": {
      "text/plain": [
       "pyspark.sql.dataframe.DataFrame"
      ]
     },
     "execution_count": 60,
     "metadata": {},
     "output_type": "execute_result"
    }
   ],
   "source": [
    "type(result)"
   ]
  },
  {
   "cell_type": "code",
   "execution_count": 61,
   "id": "83a868ab",
   "metadata": {},
   "outputs": [
    {
     "name": "stdout",
     "output_type": "stream",
     "text": [
      "+----+--------------------+--------------------+--------------------+--------------------+--------------------+--------------------+-----------------+------+------+------------------+---------+-----------------+------+\n",
      "|Rank|               Title|               Genre|         Description|            Director|              Actors|                Year|Runtime (Minutes)|Rating| Votes|Revenue (Millions)|Metascore|          Rev_New| Batch|\n",
      "+----+--------------------+--------------------+--------------------+--------------------+--------------------+--------------------+-----------------+------+------+------------------+---------+-----------------+------+\n",
      "|   1|Guardians of the ...|Action,Adventure,...|A group of interg...|          James Gunn|Chris Pratt, Vin ...|                2014|              121|   8.1|757074|            333.13|     76.0|          33313.0|Batch3|\n",
      "|   2|          Prometheus|Adventure,Mystery...|Following clues t...|        Ridley Scott|Noomi Rapace, Log...|                2012|              124|     7|485820|            126.46|     65.0|          12646.0|Batch3|\n",
      "|   3|               Split|     Horror,Thriller|Three girls are k...|  M. Night Shyamalan|James McAvoy, Any...|                2016|              117|   7.3|157606|            138.12|     62.0|          13812.0|Batch3|\n",
      "|   4|                Sing|Animation,Comedy,...|In a city of huma...|Christophe Lourdelet|Matthew McConaugh...|                2016|              108|   7.2| 60545|            270.32|     59.0|          27032.0|Batch3|\n",
      "|   5|       Suicide Squad|Action,Adventure,...|A secret governme...|          David Ayer|Will Smith, Jared...|                2016|              123|   6.2|393727|            325.02|     40.0|          32502.0|Batch3|\n",
      "|   6|      The Great Wall|Action,Adventure,...|European mercenar...|         Yimou Zhang|Matt Damon, Tian ...|                2016|              103|   6.1| 56036|             45.13|     42.0|           4513.0|Batch3|\n",
      "|   7|          La La Land|  Comedy,Drama,Music|A jazz pianist fa...|     Damien Chazelle|Ryan Gosling, Emm...|                2016|              128|   8.3|258682|            151.06|     93.0|          15106.0|Batch3|\n",
      "|   8|            Mindhorn|              Comedy|\"A has-been actor...| whom he believes...|          Sean Foley|Essie Davis, Andr...|             2016|    89|   6.4|            2490.0|     null|         249000.0|Batch3|\n",
      "|   9|  The Lost City of Z|Action,Adventure,...|A true-life drama...|          James Gray|Charlie Hunnam, R...|                2016|              141|   7.1|  7188|              8.01|     78.0|            801.0|Batch3|\n",
      "|  10|          Passengers|Adventure,Drama,R...|A spacecraft trav...|       Morten Tyldum|Jennifer Lawrence...|                2016|              116|     7|192177|            100.01|     41.0|          10001.0|Batch3|\n",
      "|  11|Fantastic Beasts ...|Adventure,Family,...|The adventures of...|         David Yates|Eddie Redmayne, K...|                2016|              133|   7.5|232072|            234.02|     66.0|          23402.0|Batch3|\n",
      "|  12|      Hidden Figures|Biography,Drama,H...|The story of a te...|      Theodore Melfi|Taraji P. Henson,...|                2016|              127|   7.8| 93103|            169.27|     74.0|          16927.0|Batch3|\n",
      "|  13|           Rogue One|Action,Adventure,...|The Rebel Allianc...|      Gareth Edwards|Felicity Jones, D...|                2016|              133|   7.9|323118|            532.17|     65.0|53216.99999999999|Batch3|\n",
      "|  14|               Moana|Animation,Adventu...|In Ancient Polyne...|        Ron Clements|Auli'i Cravalho, ...|                2016|              107|   7.7|118151|            248.75|     81.0|          24875.0|Batch3|\n",
      "|  15|            Colossal| Action,Comedy,Drama|Gloria is an out-...|     Nacho Vigalondo|Anne Hathaway, Ja...|                2016|              109|   6.4|  8612|              2.87|     70.0|            287.0|Batch3|\n",
      "|  16|The Secret Life o...|Animation,Adventu...|The quiet life of...|        Chris Renaud|Louis C.K., Eric ...|                2016|               87|   6.6|120259|            368.31|     61.0|          36831.0|Batch3|\n",
      "|  17|       Hacksaw Ridge|Biography,Drama,H...|WWII American Arm...|          Mel Gibson|Andrew Garfield, ...|                2016|              139|   8.2|211760|             67.12|     71.0|           6712.0|Batch3|\n",
      "|  18|        Jason Bourne|     Action,Thriller|The CIA's most da...|     Paul Greengrass|Matt Damon, Tommy...|                2016|              123|   6.7|150823|            162.16|     58.0|          16216.0|Batch3|\n",
      "|  19|                Lion|     Biography,Drama|A five-year-old I...|         Garth Davis|Dev Patel, Nicole...|                2016|              118|   8.1|102061|             51.69|     69.0|           5169.0|Batch3|\n",
      "|  20|             Arrival|Drama,Mystery,Sci-Fi|When twelve myste...|    Denis Villeneuve|Amy Adams, Jeremy...|                2016|              116|     8|340798|             100.5|     81.0|          10050.0|Batch3|\n",
      "+----+--------------------+--------------------+--------------------+--------------------+--------------------+--------------------+-----------------+------+------+------------------+---------+-----------------+------+\n",
      "only showing top 20 rows\n",
      "\n"
     ]
    }
   ],
   "source": [
    "result.show()"
   ]
  },
  {
   "cell_type": "code",
   "execution_count": 62,
   "id": "7a689ea4",
   "metadata": {},
   "outputs": [
    {
     "name": "stdout",
     "output_type": "stream",
     "text": [
      "+----+--------------------+--------------------+--------------------+--------------------+--------------------+--------------------+-----------------+------+------+------------------+---------+------------------+------+\n",
      "|Rank|               Title|               Genre|         Description|            Director|              Actors|                Year|Runtime (Minutes)|Rating| Votes|Revenue (Millions)|Metascore|           Rev_New| Batch|\n",
      "+----+--------------------+--------------------+--------------------+--------------------+--------------------+--------------------+-----------------+------+------+------------------+---------+------------------+------+\n",
      "|  75|            Zootopia|Animation,Adventu...|In a city of anth...|        Byron Howard|Ginnifer Goodwin,...|                2016|              108|   8.1|296853|            341.26|     78.0|           34126.0|Batch3|\n",
      "| 432|         Zoolander 2|              Comedy|Derek and Hansel ...|         Ben Stiller|Ben Stiller, Owen...|                2016|              102|   4.7| 48297|             28.84|     34.0|            2884.0|Batch3|\n",
      "| 364|          Zombieland|Adventure,Comedy,...|A shy student try...|     Ruben Fleischer|Jesse Eisenberg, ...|                2009|               88|   7.7|409403|             75.59|     73.0|            7559.0|Batch3|\n",
      "| 278|              Zodiac| Crime,Drama,History|In the late 1960s...|       David Fincher|Jake Gyllenhaal, ...|                2007|              157|   7.7|329683|             33.05|     78.0|3304.9999999999995|Batch3|\n",
      "| 545|              Zipper|      Drama,Thriller|A successful fami...|       Mora Stephens|Patrick Wilson, L...|                2015|              103|   5.7|  4912|              null|     39.0|              null|Batch3|\n",
      "| 407|    Zero Dark Thirty|Drama,History,Thr...|A chronicle of th...|     Kathryn Bigelow|Jessica Chastain,...|                2012|              157|   7.4|226661|             95.72|     95.0|            9572.0|Batch3|\n",
      "| 793|Zack and Miri Mak...|      Comedy,Romance|Lifelong platonic...|         Kevin Smith|Seth Rogen, Eliza...|                2008|              101|   6.6|154936|             31.45|     56.0|            3145.0|Batch3|\n",
      "| 504|               Youth|  Comedy,Drama,Music|A retired orchest...|    Paolo Sorrentino|Michael Caine, Ha...|                2015|              124|   7.3| 52636|               2.7|     64.0|             270.0|Batch3|\n",
      "| 986|       Your Highness|Adventure,Comedy,...|When Prince Fabio...|  David Gordon Green|Danny McBride, Na...|                2011|              102|   5.6| 87904|             21.56|     31.0|            2156.0|Batch3|\n",
      "| 838|You Don't Mess wi...|       Action,Comedy|An Israeli Specia...|        Dennis Dugan|Adam Sandler, Joh...|                2008|              113|   5.5|163144|            100.02|     54.0|           10002.0|Batch3|\n",
      "| 801|         Yoga Hosers|Comedy,Fantasy,Ho...|Two teenage yoga ...|         Kevin Smith|Lily-Rose Depp, H...|                2016|               88|   4.3|  7091|              null|     23.0|              null|Batch3|\n",
      "| 206|      X: First Class|Action,Adventure,...|In 1962, the Unit...|      Matthew Vaughn|James McAvoy, Mic...|                2011|              132|   7.8|550011|            146.41|     65.0|           14641.0|Batch3|\n",
      "| 627|X-Men: The Last S...|Action,Adventure,...|When a cure is fo...|        Brett Ratner|Patrick Stewart, ...|                2006|              104|   6.7|406540|            234.36|     58.0|           23436.0|Batch3|\n",
      "| 163|X-Men: Days of Fu...|Action,Adventure,...|The X-Men send Wo...|        Bryan Singer|Patrick Stewart, ...|                2014|              132|     8|552298|            233.91|     74.0|           23391.0|Batch3|\n",
      "|  33|   X-Men: Apocalypse|Action,Adventure,...|After the re-emer...|        Bryan Singer|James McAvoy, Mic...|                2016|              144|   7.1|275510|            155.33|     52.0|15533.000000000002|Batch3|\n",
      "| 269|X-Men Origins: Wo...|Action,Adventure,...|A look at Wolveri...|          Gavin Hood|Hugh Jackman, Lie...|                2009|              107|   6.7|388447|            179.88|     40.0|           17988.0|Batch3|\n",
      "| 969|             Wrecker|Action,Horror,Thr...|\"Best friends Emi...|\"\" they become th...|      Micheal Bafaro|Anna Hutchison, A...|             2015|    83|   3.5|            1210.0|     null|          121000.0|Batch3|\n",
      "| 564|      Wreck-It Ralph|Animation,Adventu...|A video game vill...|          Rich Moore|John C. Reilly, J...|                2012|              101|   7.8|290559|            189.41|     72.0|           18941.0|Batch3|\n",
      "| 880| Wrath of the Titans|Action,Adventure,...|Perseus braves th...|  Jonathan Liebesman|Sam Worthington, ...|                2012|               99|   5.8|159230|             83.64|     37.0|            8364.0|Batch3|\n",
      "| 433|         World War Z|Action,Adventure,...|Former United Nat...|        Marc Forster|Brad Pitt, Mireil...|                2013|              116|     7|494819|            202.35|     63.0|           20235.0|Batch3|\n",
      "+----+--------------------+--------------------+--------------------+--------------------+--------------------+--------------------+-----------------+------+------+------------------+---------+------------------+------+\n",
      "only showing top 20 rows\n",
      "\n"
     ]
    }
   ],
   "source": [
    "testdf=moviedf.sort(col(\"Title\").desc())\n",
    "testdf.show()"
   ]
  },
  {
   "cell_type": "code",
   "execution_count": 68,
   "id": "0bfcb5cc",
   "metadata": {},
   "outputs": [
    {
     "name": "stdout",
     "output_type": "stream",
     "text": [
      "+--------------------+----+\n",
      "|               Title|Rank|\n",
      "+--------------------+----+\n",
      "|Guardians of the ...|   1|\n",
      "|          Prometheus|   2|\n",
      "|               Split|   3|\n",
      "|                Sing|   4|\n",
      "|       Suicide Squad|   5|\n",
      "|      The Great Wall|   6|\n",
      "|          La La Land|   7|\n",
      "|            Mindhorn|   8|\n",
      "|  The Lost City of Z|   9|\n",
      "|          Passengers|  10|\n",
      "|Fantastic Beasts ...|  11|\n",
      "|      Hidden Figures|  12|\n",
      "|           Rogue One|  13|\n",
      "|               Moana|  14|\n",
      "|            Colossal|  15|\n",
      "|The Secret Life o...|  16|\n",
      "|       Hacksaw Ridge|  17|\n",
      "|        Jason Bourne|  18|\n",
      "|                Lion|  19|\n",
      "|             Arrival|  20|\n",
      "+--------------------+----+\n",
      "only showing top 20 rows\n",
      "\n"
     ]
    }
   ],
   "source": [
    "df = moviedf.select('Title','Rank')\n",
    "df.show()"
   ]
  },
  {
   "cell_type": "code",
   "execution_count": 69,
   "id": "9bd4e52f",
   "metadata": {},
   "outputs": [
    {
     "name": "stdout",
     "output_type": "stream",
     "text": [
      "+--------------------+----+--------------------+\n",
      "|               Title|Rank|     last_updated_ts|\n",
      "+--------------------+----+--------------------+\n",
      "|Guardians of the ...|   1|2023-09-22 05:37:...|\n",
      "|          Prometheus|   2|2023-09-22 05:37:...|\n",
      "|               Split|   3|2023-09-22 05:37:...|\n",
      "|                Sing|   4|2023-09-22 05:37:...|\n",
      "|       Suicide Squad|   5|2023-09-22 05:37:...|\n",
      "|      The Great Wall|   6|2023-09-22 05:37:...|\n",
      "|          La La Land|   7|2023-09-22 05:37:...|\n",
      "|            Mindhorn|   8|2023-09-22 05:37:...|\n",
      "|  The Lost City of Z|   9|2023-09-22 05:37:...|\n",
      "|          Passengers|  10|2023-09-22 05:37:...|\n",
      "|Fantastic Beasts ...|  11|2023-09-22 05:37:...|\n",
      "|      Hidden Figures|  12|2023-09-22 05:37:...|\n",
      "|           Rogue One|  13|2023-09-22 05:37:...|\n",
      "|               Moana|  14|2023-09-22 05:37:...|\n",
      "|            Colossal|  15|2023-09-22 05:37:...|\n",
      "|The Secret Life o...|  16|2023-09-22 05:37:...|\n",
      "|       Hacksaw Ridge|  17|2023-09-22 05:37:...|\n",
      "|        Jason Bourne|  18|2023-09-22 05:37:...|\n",
      "|                Lion|  19|2023-09-22 05:37:...|\n",
      "|             Arrival|  20|2023-09-22 05:37:...|\n",
      "+--------------------+----+--------------------+\n",
      "only showing top 20 rows\n",
      "\n"
     ]
    }
   ],
   "source": [
    "from datetime import datetime\n",
    "df=df.withColumn(\"last_updated_ts\",lit(datetime.now()))\n",
    "df.show()"
   ]
  },
  {
   "cell_type": "code",
   "execution_count": 71,
   "id": "b39aa948",
   "metadata": {},
   "outputs": [
    {
     "name": "stdout",
     "output_type": "stream",
     "text": [
      "+----------+--------------------+\n",
      "|      test|               Title|\n",
      "+----------+--------------------+\n",
      "|2023-09-22|Guardians of the ...|\n",
      "|2023-09-22|          Prometheus|\n",
      "|2023-09-22|               Split|\n",
      "|2023-09-22|                Sing|\n",
      "|2023-09-22|       Suicide Squad|\n",
      "|2023-09-22|      The Great Wall|\n",
      "|2023-09-22|          La La Land|\n",
      "|2023-09-22|            Mindhorn|\n",
      "|2023-09-22|  The Lost City of Z|\n",
      "|2023-09-22|          Passengers|\n",
      "|2023-09-22|Fantastic Beasts ...|\n",
      "|2023-09-22|      Hidden Figures|\n",
      "|2023-09-22|           Rogue One|\n",
      "|2023-09-22|               Moana|\n",
      "|2023-09-22|            Colossal|\n",
      "|2023-09-22|The Secret Life o...|\n",
      "|2023-09-22|       Hacksaw Ridge|\n",
      "|2023-09-22|        Jason Bourne|\n",
      "|2023-09-22|                Lion|\n",
      "|2023-09-22|             Arrival|\n",
      "+----------+--------------------+\n",
      "only showing top 20 rows\n",
      "\n"
     ]
    }
   ],
   "source": [
    "df_test=df.selectExpr('CAST(last_updated_ts AS DATE) AS test','Title')\n",
    "df_test.show()\n",
    "                "
   ]
  },
  {
   "cell_type": "code",
   "execution_count": 72,
   "id": "4fd31681",
   "metadata": {},
   "outputs": [
    {
     "name": "stdout",
     "output_type": "stream",
     "text": [
      "+----------+--------------------+--------------------+\n",
      "|      test|               Title|           MovieName|\n",
      "+----------+--------------------+--------------------+\n",
      "|2023-09-22|Guardians of the ...|Guardians of the ...|\n",
      "|2023-09-22|          Prometheus|          Prometheus|\n",
      "|2023-09-22|               Split|               Split|\n",
      "|2023-09-22|                Sing|                Sing|\n",
      "|2023-09-22|       Suicide Squad|       Suicide Squad|\n",
      "|2023-09-22|      The Great Wall|      The Great Wall|\n",
      "|2023-09-22|          La La Land|          La La Land|\n",
      "|2023-09-22|            Mindhorn|            Mindhorn|\n",
      "|2023-09-22|  The Lost City of Z|  The Lost City of Z|\n",
      "|2023-09-22|          Passengers|          Passengers|\n",
      "|2023-09-22|Fantastic Beasts ...|Fantastic Beasts ...|\n",
      "|2023-09-22|      Hidden Figures|      Hidden Figures|\n",
      "|2023-09-22|           Rogue One|           Rogue One|\n",
      "|2023-09-22|               Moana|               Moana|\n",
      "|2023-09-22|            Colossal|            Colossal|\n",
      "|2023-09-22|The Secret Life o...|The Secret Life o...|\n",
      "|2023-09-22|       Hacksaw Ridge|       Hacksaw Ridge|\n",
      "|2023-09-22|        Jason Bourne|        Jason Bourne|\n",
      "|2023-09-22|                Lion|                Lion|\n",
      "|2023-09-22|             Arrival|             Arrival|\n",
      "+----------+--------------------+--------------------+\n",
      "only showing top 20 rows\n",
      "\n"
     ]
    }
   ],
   "source": [
    "df2=df_test.withColumn(\"MovieName\",lit(col(\"Title\")))\n",
    "df2.show()"
   ]
  },
  {
   "cell_type": "code",
   "execution_count": 75,
   "id": "37b5dbc1",
   "metadata": {},
   "outputs": [
    {
     "data": {
      "text/plain": [
       "1000"
      ]
     },
     "execution_count": 75,
     "metadata": {},
     "output_type": "execute_result"
    }
   ],
   "source": [
    "df3=moviedf.dropDuplicates([\"Director\",\"Title\"])\n",
    "df3.count()"
   ]
  },
  {
   "cell_type": "code",
   "execution_count": 76,
   "id": "c36c9d77",
   "metadata": {},
   "outputs": [
    {
     "data": {
      "text/plain": [
       "1000"
      ]
     },
     "execution_count": 76,
     "metadata": {},
     "output_type": "execute_result"
    }
   ],
   "source": [
    "moviedf.count()"
   ]
  },
  {
   "cell_type": "code",
   "execution_count": 80,
   "id": "24a94bba",
   "metadata": {},
   "outputs": [
    {
     "name": "stdout",
     "output_type": "stream",
     "text": [
      "+----+--------------------+--------------------+--------------------+--------------------+--------------------+--------------------+-----------------+------+------+------------------+---------+-----------------+------+------------+\n",
      "|Rank|               Title|               Genre|         Description|            Director|              Actors|                Year|Runtime (Minutes)|Rating| Votes|Revenue (Millions)|Metascore|          Rev_New| Batch|Rating_Value|\n",
      "+----+--------------------+--------------------+--------------------+--------------------+--------------------+--------------------+-----------------+------+------+------------------+---------+-----------------+------+------------+\n",
      "|   1|Guardians of the ...|Action,Adventure,...|A group of interg...|          James Gunn|Chris Pratt, Vin ...|                2014|              121|   8.1|757074|            333.13|     76.0|          33313.0|Batch3|        Best|\n",
      "|   2|          Prometheus|Adventure,Mystery...|Following clues t...|        Ridley Scott|Noomi Rapace, Log...|                2012|              124|     7|485820|            126.46|     65.0|          12646.0|Batch3|        Good|\n",
      "|   3|               Split|     Horror,Thriller|Three girls are k...|  M. Night Shyamalan|James McAvoy, Any...|                2016|              117|   7.3|157606|            138.12|     62.0|          13812.0|Batch3|        Good|\n",
      "|   4|                Sing|Animation,Comedy,...|In a city of huma...|Christophe Lourdelet|Matthew McConaugh...|                2016|              108|   7.2| 60545|            270.32|     59.0|          27032.0|Batch3|        Good|\n",
      "|   5|       Suicide Squad|Action,Adventure,...|A secret governme...|          David Ayer|Will Smith, Jared...|                2016|              123|   6.2|393727|            325.02|     40.0|          32502.0|Batch3|        Good|\n",
      "|   6|      The Great Wall|Action,Adventure,...|European mercenar...|         Yimou Zhang|Matt Damon, Tian ...|                2016|              103|   6.1| 56036|             45.13|     42.0|           4513.0|Batch3|        Good|\n",
      "|   7|          La La Land|  Comedy,Drama,Music|A jazz pianist fa...|     Damien Chazelle|Ryan Gosling, Emm...|                2016|              128|   8.3|258682|            151.06|     93.0|          15106.0|Batch3|        Best|\n",
      "|   8|            Mindhorn|              Comedy|\"A has-been actor...| whom he believes...|          Sean Foley|Essie Davis, Andr...|             2016|    89|   6.4|            2490.0|     null|         249000.0|Batch3|      Normal|\n",
      "|   9|  The Lost City of Z|Action,Adventure,...|A true-life drama...|          James Gray|Charlie Hunnam, R...|                2016|              141|   7.1|  7188|              8.01|     78.0|            801.0|Batch3|        Good|\n",
      "|  10|          Passengers|Adventure,Drama,R...|A spacecraft trav...|       Morten Tyldum|Jennifer Lawrence...|                2016|              116|     7|192177|            100.01|     41.0|          10001.0|Batch3|        Good|\n",
      "|  11|Fantastic Beasts ...|Adventure,Family,...|The adventures of...|         David Yates|Eddie Redmayne, K...|                2016|              133|   7.5|232072|            234.02|     66.0|          23402.0|Batch3|        Good|\n",
      "|  12|      Hidden Figures|Biography,Drama,H...|The story of a te...|      Theodore Melfi|Taraji P. Henson,...|                2016|              127|   7.8| 93103|            169.27|     74.0|          16927.0|Batch3|        Good|\n",
      "|  13|           Rogue One|Action,Adventure,...|The Rebel Allianc...|      Gareth Edwards|Felicity Jones, D...|                2016|              133|   7.9|323118|            532.17|     65.0|53216.99999999999|Batch3|        Good|\n",
      "|  14|               Moana|Animation,Adventu...|In Ancient Polyne...|        Ron Clements|Auli'i Cravalho, ...|                2016|              107|   7.7|118151|            248.75|     81.0|          24875.0|Batch3|        Good|\n",
      "|  15|            Colossal| Action,Comedy,Drama|Gloria is an out-...|     Nacho Vigalondo|Anne Hathaway, Ja...|                2016|              109|   6.4|  8612|              2.87|     70.0|            287.0|Batch3|        Good|\n",
      "|  16|The Secret Life o...|Animation,Adventu...|The quiet life of...|        Chris Renaud|Louis C.K., Eric ...|                2016|               87|   6.6|120259|            368.31|     61.0|          36831.0|Batch3|        Good|\n",
      "|  17|       Hacksaw Ridge|Biography,Drama,H...|WWII American Arm...|          Mel Gibson|Andrew Garfield, ...|                2016|              139|   8.2|211760|             67.12|     71.0|           6712.0|Batch3|        Best|\n",
      "|  18|        Jason Bourne|     Action,Thriller|The CIA's most da...|     Paul Greengrass|Matt Damon, Tommy...|                2016|              123|   6.7|150823|            162.16|     58.0|          16216.0|Batch3|        Good|\n",
      "|  19|                Lion|     Biography,Drama|A five-year-old I...|         Garth Davis|Dev Patel, Nicole...|                2016|              118|   8.1|102061|             51.69|     69.0|           5169.0|Batch3|        Best|\n",
      "|  20|             Arrival|Drama,Mystery,Sci-Fi|When twelve myste...|    Denis Villeneuve|Amy Adams, Jeremy...|                2016|              116|     8|340798|             100.5|     81.0|          10050.0|Batch3|        Best|\n",
      "+----+--------------------+--------------------+--------------------+--------------------+--------------------+--------------------+-----------------+------+------+------------------+---------+-----------------+------+------------+\n",
      "only showing top 20 rows\n",
      "\n"
     ]
    }
   ],
   "source": [
    "test_df=moviedf.withColumn(\"Rating_Value\", when((col(\"Rating\")>=0) & (col(\"Rating\")<5), \"Average\").\n",
    "                           when((col(\"Rating\")>=5) & (col(\"Rating\")<8), \"Good\").\n",
    "                           when((col(\"Rating\")>=8) & (col(\"Rating\")<10), \"Best\").otherwise(\"Normal\"))\n",
    "test_df.show()"
   ]
  },
  {
   "cell_type": "code",
   "execution_count": 100,
   "id": "61f8411f",
   "metadata": {},
   "outputs": [
    {
     "name": "stdout",
     "output_type": "stream",
     "text": [
      "+----+--------------------+--------------------+--------------------+--------------------+--------------------+--------------------+-----------------+------+------+------------------+---------+-----------------+------+--------------------+\n",
      "|Rank|               Title|               Genre|         Description|            Director|              Actors|                Year|Runtime (Minutes)|Rating| Votes|Revenue (Millions)|Metascore|          Rev_New| Batch|        Concatenated|\n",
      "+----+--------------------+--------------------+--------------------+--------------------+--------------------+--------------------+-----------------+------+------+------------------+---------+-----------------+------+--------------------+\n",
      "|   1|Guardians of the ...|Action,Adventure,...|A group of interg...|          James Gunn|Chris Pratt, Vin ...|                2014|              121|   8.1|757074|            333.13|     76.0|          33313.0|Batch3|Guardians of the ...|\n",
      "|   2|          Prometheus|Adventure,Mystery...|Following clues t...|        Ridley Scott|Noomi Rapace, Log...|                2012|              124|     7|485820|            126.46|     65.0|          12646.0|Batch3|    Prometheus_Shell|\n",
      "|   3|               Split|     Horror,Thriller|Three girls are k...|  M. Night Shyamalan|James McAvoy, Any...|                2016|              117|   7.3|157606|            138.12|     62.0|          13812.0|Batch3|         Split_Shell|\n",
      "|   4|                Sing|Animation,Comedy,...|In a city of huma...|Christophe Lourdelet|Matthew McConaugh...|                2016|              108|   7.2| 60545|            270.32|     59.0|          27032.0|Batch3|          Sing_Shell|\n",
      "|   5|       Suicide Squad|Action,Adventure,...|A secret governme...|          David Ayer|Will Smith, Jared...|                2016|              123|   6.2|393727|            325.02|     40.0|          32502.0|Batch3| Suicide Squad_Shell|\n",
      "|   6|      The Great Wall|Action,Adventure,...|European mercenar...|         Yimou Zhang|Matt Damon, Tian ...|                2016|              103|   6.1| 56036|             45.13|     42.0|           4513.0|Batch3|The Great Wall_Shell|\n",
      "|   7|          La La Land|  Comedy,Drama,Music|A jazz pianist fa...|     Damien Chazelle|Ryan Gosling, Emm...|                2016|              128|   8.3|258682|            151.06|     93.0|          15106.0|Batch3|    La La Land_Shell|\n",
      "|   8|            Mindhorn|              Comedy|\"A has-been actor...| whom he believes...|          Sean Foley|Essie Davis, Andr...|             2016|    89|   6.4|            2490.0|     null|         249000.0|Batch3|      Mindhorn_Shell|\n",
      "|   9|  The Lost City of Z|Action,Adventure,...|A true-life drama...|          James Gray|Charlie Hunnam, R...|                2016|              141|   7.1|  7188|              8.01|     78.0|            801.0|Batch3|The Lost City of ...|\n",
      "|  10|          Passengers|Adventure,Drama,R...|A spacecraft trav...|       Morten Tyldum|Jennifer Lawrence...|                2016|              116|     7|192177|            100.01|     41.0|          10001.0|Batch3|    Passengers_Shell|\n",
      "|  11|Fantastic Beasts ...|Adventure,Family,...|The adventures of...|         David Yates|Eddie Redmayne, K...|                2016|              133|   7.5|232072|            234.02|     66.0|          23402.0|Batch3|Fantastic Beasts ...|\n",
      "|  12|      Hidden Figures|Biography,Drama,H...|The story of a te...|      Theodore Melfi|Taraji P. Henson,...|                2016|              127|   7.8| 93103|            169.27|     74.0|          16927.0|Batch3|Hidden Figures_Shell|\n",
      "|  13|           Rogue One|Action,Adventure,...|The Rebel Allianc...|      Gareth Edwards|Felicity Jones, D...|                2016|              133|   7.9|323118|            532.17|     65.0|53216.99999999999|Batch3|     Rogue One_Shell|\n",
      "|  14|               Moana|Animation,Adventu...|In Ancient Polyne...|        Ron Clements|Auli'i Cravalho, ...|                2016|              107|   7.7|118151|            248.75|     81.0|          24875.0|Batch3|         Moana_Shell|\n",
      "|  15|            Colossal| Action,Comedy,Drama|Gloria is an out-...|     Nacho Vigalondo|Anne Hathaway, Ja...|                2016|              109|   6.4|  8612|              2.87|     70.0|            287.0|Batch3|      Colossal_Shell|\n",
      "|  16|The Secret Life o...|Animation,Adventu...|The quiet life of...|        Chris Renaud|Louis C.K., Eric ...|                2016|               87|   6.6|120259|            368.31|     61.0|          36831.0|Batch3|The Secret Life o...|\n",
      "|  17|       Hacksaw Ridge|Biography,Drama,H...|WWII American Arm...|          Mel Gibson|Andrew Garfield, ...|                2016|              139|   8.2|211760|             67.12|     71.0|           6712.0|Batch3| Hacksaw Ridge_Shell|\n",
      "|  18|        Jason Bourne|     Action,Thriller|The CIA's most da...|     Paul Greengrass|Matt Damon, Tommy...|                2016|              123|   6.7|150823|            162.16|     58.0|          16216.0|Batch3|  Jason Bourne_Shell|\n",
      "|  19|                Lion|     Biography,Drama|A five-year-old I...|         Garth Davis|Dev Patel, Nicole...|                2016|              118|   8.1|102061|             51.69|     69.0|           5169.0|Batch3|          Lion_Shell|\n",
      "|  20|             Arrival|Drama,Mystery,Sci-Fi|When twelve myste...|    Denis Villeneuve|Amy Adams, Jeremy...|                2016|              116|     8|340798|             100.5|     81.0|          10050.0|Batch3|       Arrival_Shell|\n",
      "+----+--------------------+--------------------+--------------------+--------------------+--------------------+--------------------+-----------------+------+------+------------------+---------+-----------------+------+--------------------+\n",
      "only showing top 20 rows\n",
      "\n"
     ]
    }
   ],
   "source": [
    "\n",
    "from pyspark.sql.functions import *\n",
    "def concatColumn(column):\n",
    "    return column+\"_Shell\"\n",
    "my_udf = udf(concatColumn, StringType())\n",
    "\n",
    "test2df = moviedf.withColumn(\"Concatenated\", my_udf(col(\"Title\")))\n",
    "test2df.show()"
   ]
  },
  {
   "cell_type": "code",
   "execution_count": 101,
   "id": "0babc3d6",
   "metadata": {},
   "outputs": [],
   "source": [
    "cadf = moviedf.cache()"
   ]
  },
  {
   "cell_type": "code",
   "execution_count": 102,
   "id": "32bb0aa6",
   "metadata": {},
   "outputs": [
    {
     "name": "stdout",
     "output_type": "stream",
     "text": [
      "+----+--------------------+--------------------+--------------------+------------+--------------------+----+-----------------+------+------+------------------+---------+-------+------+\n",
      "|Rank|               Title|               Genre|         Description|    Director|              Actors|Year|Runtime (Minutes)|Rating| Votes|Revenue (Millions)|Metascore|Rev_New| Batch|\n",
      "+----+--------------------+--------------------+--------------------+------------+--------------------+----+-----------------+------+------+------------------+---------+-------+------+\n",
      "|   1|Guardians of the ...|Action,Adventure,...|A group of interg...|  James Gunn|Chris Pratt, Vin ...|2014|              121|   8.1|757074|            333.13|     76.0|33313.0|Batch3|\n",
      "|   2|          Prometheus|Adventure,Mystery...|Following clues t...|Ridley Scott|Noomi Rapace, Log...|2012|              124|     7|485820|            126.46|     65.0|12646.0|Batch3|\n",
      "+----+--------------------+--------------------+--------------------+------------+--------------------+----+-----------------+------+------+------------------+---------+-------+------+\n",
      "only showing top 2 rows\n",
      "\n"
     ]
    }
   ],
   "source": [
    "cadf.show(2)"
   ]
  },
  {
   "cell_type": "code",
   "execution_count": null,
   "id": "97d15aa7",
   "metadata": {},
   "outputs": [],
   "source": [
    "\n"
   ]
  },
  {
   "cell_type": "code",
   "execution_count": null,
   "id": "e441d1b4",
   "metadata": {},
   "outputs": [],
   "source": []
  }
 ],
 "metadata": {
  "kernelspec": {
   "display_name": "Python 3 (ipykernel)",
   "language": "python",
   "name": "python3"
  },
  "language_info": {
   "codemirror_mode": {
    "name": "ipython",
    "version": 3
   },
   "file_extension": ".py",
   "mimetype": "text/x-python",
   "name": "python",
   "nbconvert_exporter": "python",
   "pygments_lexer": "ipython3",
   "version": "3.11.4"
  }
 },
 "nbformat": 4,
 "nbformat_minor": 5
}
